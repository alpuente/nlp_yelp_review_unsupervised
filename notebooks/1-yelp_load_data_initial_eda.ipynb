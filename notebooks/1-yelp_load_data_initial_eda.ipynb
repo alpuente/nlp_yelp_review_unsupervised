{
 "cells": [
  {
   "cell_type": "code",
   "execution_count": 3,
   "metadata": {},
   "outputs": [],
   "source": [
    "from pymongo import MongoClient\n",
    "from pprint import pprint\n",
    "import pandas as pd\n",
    "import matplotlib.pyplot as plt\n",
    "import seaborn as sns\n",
    "import numpy as np\n",
    "import pickle\n",
    "%matplotlib inline"
   ]
  },
  {
   "cell_type": "markdown",
   "metadata": {},
   "source": [
    "## Mongo Load"
   ]
  },
  {
   "cell_type": "markdown",
   "metadata": {},
   "source": [
    "#### Connect to Mongo DB for Yelp data"
   ]
  },
  {
   "cell_type": "code",
   "execution_count": 4,
   "metadata": {},
   "outputs": [
    {
     "data": {
      "text/plain": [
       "['checkin', 'photo', 'review', 'user', 'tip', 'business']"
      ]
     },
     "execution_count": 4,
     "metadata": {},
     "output_type": "execute_result"
    }
   ],
   "source": [
    "client = MongoClient()\n",
    "db = client.yelp\n",
    "db.list_collection_names()"
   ]
  },
  {
   "cell_type": "markdown",
   "metadata": {},
   "source": [
    "#### Bring in select columns on reviews and business collections"
   ]
  },
  {
   "cell_type": "code",
   "execution_count": 5,
   "metadata": {},
   "outputs": [
    {
     "data": {
      "text/plain": [
       "6685900"
      ]
     },
     "execution_count": 5,
     "metadata": {},
     "output_type": "execute_result"
    }
   ],
   "source": [
    "reviews = list(db.review.find({}, {'_id':0, 'business_id': 1, 'stars': 1, 'text': 1, 'useful': 1, 'date': 1}))\n",
    "len(reviews)"
   ]
  },
  {
   "cell_type": "code",
   "execution_count": 6,
   "metadata": {},
   "outputs": [],
   "source": [
    "review_df = pd.DataFrame(reviews) "
   ]
  },
  {
   "cell_type": "code",
   "execution_count": 7,
   "metadata": {},
   "outputs": [
    {
     "data": {
      "text/html": [
       "<div>\n",
       "<style scoped>\n",
       "    .dataframe tbody tr th:only-of-type {\n",
       "        vertical-align: middle;\n",
       "    }\n",
       "\n",
       "    .dataframe tbody tr th {\n",
       "        vertical-align: top;\n",
       "    }\n",
       "\n",
       "    .dataframe thead th {\n",
       "        text-align: right;\n",
       "    }\n",
       "</style>\n",
       "<table border=\"1\" class=\"dataframe\">\n",
       "  <thead>\n",
       "    <tr style=\"text-align: right;\">\n",
       "      <th></th>\n",
       "      <th>business_id</th>\n",
       "      <th>date</th>\n",
       "      <th>review_stars</th>\n",
       "      <th>text</th>\n",
       "      <th>useful</th>\n",
       "    </tr>\n",
       "  </thead>\n",
       "  <tbody>\n",
       "    <tr>\n",
       "      <th>0</th>\n",
       "      <td>ikCg8xy5JIg_NGPx-MSIDA</td>\n",
       "      <td>2018-01-09 20:56:38</td>\n",
       "      <td>5.0</td>\n",
       "      <td>Went in for a lunch. Steak sandwich was delici...</td>\n",
       "      <td>0</td>\n",
       "    </tr>\n",
       "    <tr>\n",
       "      <th>1</th>\n",
       "      <td>eU_713ec6fTGNO4BegRaww</td>\n",
       "      <td>2013-01-20 13:25:59</td>\n",
       "      <td>4.0</td>\n",
       "      <td>I'll be the first to admit that I was not exci...</td>\n",
       "      <td>0</td>\n",
       "    </tr>\n",
       "  </tbody>\n",
       "</table>\n",
       "</div>"
      ],
      "text/plain": [
       "              business_id                 date  review_stars  \\\n",
       "0  ikCg8xy5JIg_NGPx-MSIDA  2018-01-09 20:56:38           5.0   \n",
       "1  eU_713ec6fTGNO4BegRaww  2013-01-20 13:25:59           4.0   \n",
       "\n",
       "                                                text  useful  \n",
       "0  Went in for a lunch. Steak sandwich was delici...       0  \n",
       "1  I'll be the first to admit that I was not exci...       0  "
      ]
     },
     "execution_count": 7,
     "metadata": {},
     "output_type": "execute_result"
    }
   ],
   "source": [
    "review_df = review_df.rename(columns={'stars': 'review_stars'})\n",
    "review_df.head(2)"
   ]
  },
  {
   "cell_type": "code",
   "execution_count": 8,
   "metadata": {},
   "outputs": [
    {
     "data": {
      "text/plain": [
       "192609"
      ]
     },
     "execution_count": 8,
     "metadata": {},
     "output_type": "execute_result"
    }
   ],
   "source": [
    "businesses = list(db.business.find({}, {'_id':0, 'business_id': 1, 'name': 1, 'city': 1, 'state': 1,\n",
    "                                     'stars': 1, 'review_count': 1, 'attributes': 1, 'categories': 1}))\n",
    "len(businesses)"
   ]
  },
  {
   "cell_type": "code",
   "execution_count": 9,
   "metadata": {},
   "outputs": [
    {
     "data": {
      "text/plain": [
       "{'business_id': '1SWheh84yJXfytovILXOAQ',\n",
       " 'name': 'Arizona Biltmore Golf Club',\n",
       " 'city': 'Phoenix',\n",
       " 'state': 'AZ',\n",
       " 'stars': 3.0,\n",
       " 'review_count': 5,\n",
       " 'attributes': {'GoodForKids': 'False'},\n",
       " 'categories': 'Golf, Active Life'}"
      ]
     },
     "execution_count": 9,
     "metadata": {},
     "output_type": "execute_result"
    }
   ],
   "source": [
    "businesses[0]"
   ]
  },
  {
   "cell_type": "markdown",
   "metadata": {},
   "source": [
    "#### Get All Businesses that are Restaurants"
   ]
  },
  {
   "cell_type": "code",
   "execution_count": 10,
   "metadata": {},
   "outputs": [
    {
     "data": {
      "text/plain": [
       "59371"
      ]
     },
     "execution_count": 10,
     "metadata": {},
     "output_type": "execute_result"
    }
   ],
   "source": [
    "restaurants = [biz for biz in businesses if str(biz['categories']).find('Restaurants') != -1 ]\n",
    "len(restaurants)"
   ]
  },
  {
   "cell_type": "code",
   "execution_count": 11,
   "metadata": {},
   "outputs": [],
   "source": [
    "restaurant_df = pd.DataFrame(restaurants)"
   ]
  },
  {
   "cell_type": "code",
   "execution_count": 12,
   "metadata": {},
   "outputs": [
    {
     "data": {
      "text/html": [
       "<div>\n",
       "<style scoped>\n",
       "    .dataframe tbody tr th:only-of-type {\n",
       "        vertical-align: middle;\n",
       "    }\n",
       "\n",
       "    .dataframe tbody tr th {\n",
       "        vertical-align: top;\n",
       "    }\n",
       "\n",
       "    .dataframe thead th {\n",
       "        text-align: right;\n",
       "    }\n",
       "</style>\n",
       "<table border=\"1\" class=\"dataframe\">\n",
       "  <thead>\n",
       "    <tr style=\"text-align: right;\">\n",
       "      <th></th>\n",
       "      <th>attributes</th>\n",
       "      <th>business_id</th>\n",
       "      <th>categories</th>\n",
       "      <th>city</th>\n",
       "      <th>name</th>\n",
       "      <th>review_count</th>\n",
       "      <th>biz_stars</th>\n",
       "      <th>state</th>\n",
       "    </tr>\n",
       "  </thead>\n",
       "  <tbody>\n",
       "    <tr>\n",
       "      <th>0</th>\n",
       "      <td>{'RestaurantsTakeOut': 'True', 'BusinessParkin...</td>\n",
       "      <td>1Dfx3zM-rW4n-31KeC8sJg</td>\n",
       "      <td>Restaurants, Breakfast &amp; Brunch, Mexican, Taco...</td>\n",
       "      <td>Phoenix</td>\n",
       "      <td>Taco Bell</td>\n",
       "      <td>18</td>\n",
       "      <td>3.0</td>\n",
       "      <td>AZ</td>\n",
       "    </tr>\n",
       "    <tr>\n",
       "      <th>1</th>\n",
       "      <td>{'RestaurantsPriceRange2': '2', 'BusinessAccep...</td>\n",
       "      <td>fweCYi8FmbJXHCqLnwuk8w</td>\n",
       "      <td>Italian, Restaurants, Pizza, Chicken Wings</td>\n",
       "      <td>Mentor-on-the-Lake</td>\n",
       "      <td>Marco's Pizza</td>\n",
       "      <td>16</td>\n",
       "      <td>4.0</td>\n",
       "      <td>OH</td>\n",
       "    </tr>\n",
       "    <tr>\n",
       "      <th>2</th>\n",
       "      <td>{'OutdoorSeating': 'False', 'BusinessAcceptsCr...</td>\n",
       "      <td>PZ-LZzSlhSe9utkQYU8pFg</td>\n",
       "      <td>Restaurants, Italian</td>\n",
       "      <td>Las Vegas</td>\n",
       "      <td>Carluccio's Tivoli Gardens</td>\n",
       "      <td>40</td>\n",
       "      <td>4.0</td>\n",
       "      <td>NV</td>\n",
       "    </tr>\n",
       "    <tr>\n",
       "      <th>3</th>\n",
       "      <td>{'RestaurantsReservations': 'True', 'GoodForMe...</td>\n",
       "      <td>QXAEGFB4oINsVuTFxEYKFQ</td>\n",
       "      <td>Specialty Food, Restaurants, Dim Sum, Imported...</td>\n",
       "      <td>Mississauga</td>\n",
       "      <td>Emerald Chinese Restaurant</td>\n",
       "      <td>128</td>\n",
       "      <td>2.5</td>\n",
       "      <td>ON</td>\n",
       "    </tr>\n",
       "    <tr>\n",
       "      <th>4</th>\n",
       "      <td>{'RestaurantsTakeOut': 'True', 'BusinessParkin...</td>\n",
       "      <td>1RHY4K3BD22FK7Cfftn8Mg</td>\n",
       "      <td>Sandwiches, Salad, Restaurants, Burgers, Comfo...</td>\n",
       "      <td>Pittsburgh</td>\n",
       "      <td>Marathon Diner</td>\n",
       "      <td>35</td>\n",
       "      <td>4.0</td>\n",
       "      <td>PA</td>\n",
       "    </tr>\n",
       "  </tbody>\n",
       "</table>\n",
       "</div>"
      ],
      "text/plain": [
       "                                          attributes             business_id  \\\n",
       "0  {'RestaurantsTakeOut': 'True', 'BusinessParkin...  1Dfx3zM-rW4n-31KeC8sJg   \n",
       "1  {'RestaurantsPriceRange2': '2', 'BusinessAccep...  fweCYi8FmbJXHCqLnwuk8w   \n",
       "2  {'OutdoorSeating': 'False', 'BusinessAcceptsCr...  PZ-LZzSlhSe9utkQYU8pFg   \n",
       "3  {'RestaurantsReservations': 'True', 'GoodForMe...  QXAEGFB4oINsVuTFxEYKFQ   \n",
       "4  {'RestaurantsTakeOut': 'True', 'BusinessParkin...  1RHY4K3BD22FK7Cfftn8Mg   \n",
       "\n",
       "                                          categories                city  \\\n",
       "0  Restaurants, Breakfast & Brunch, Mexican, Taco...             Phoenix   \n",
       "1         Italian, Restaurants, Pizza, Chicken Wings  Mentor-on-the-Lake   \n",
       "2                               Restaurants, Italian           Las Vegas   \n",
       "3  Specialty Food, Restaurants, Dim Sum, Imported...         Mississauga   \n",
       "4  Sandwiches, Salad, Restaurants, Burgers, Comfo...          Pittsburgh   \n",
       "\n",
       "                         name  review_count  biz_stars state  \n",
       "0                   Taco Bell            18        3.0    AZ  \n",
       "1               Marco's Pizza            16        4.0    OH  \n",
       "2  Carluccio's Tivoli Gardens            40        4.0    NV  \n",
       "3  Emerald Chinese Restaurant           128        2.5    ON  \n",
       "4              Marathon Diner            35        4.0    PA  "
      ]
     },
     "execution_count": 12,
     "metadata": {},
     "output_type": "execute_result"
    }
   ],
   "source": [
    "restaurant_df = restaurant_df.rename(columns={'stars': 'biz_stars'})\n",
    "restaurant_df.head()"
   ]
  },
  {
   "cell_type": "markdown",
   "metadata": {},
   "source": [
    "## Merge Businesses and Reviews"
   ]
  },
  {
   "cell_type": "markdown",
   "metadata": {},
   "source": [
    "#### Figure out how to define bad reviews - look at distribution of restaurant-specific reviews"
   ]
  },
  {
   "cell_type": "code",
   "execution_count": 13,
   "metadata": {},
   "outputs": [],
   "source": [
    "merged = restaurant_df.merge(review_df, on='business_id', how='inner') # alternatively merge on just polarized (not 3s)"
   ]
  },
  {
   "cell_type": "code",
   "execution_count": 14,
   "metadata": {},
   "outputs": [
    {
     "name": "stdout",
     "output_type": "stream",
     "text": [
      "Restaurant Review Median: 4.0, \n",
      "Restaurant Review Mean:, 3.718240948153169\n"
     ]
    }
   ],
   "source": [
    "print(f\"\"\"Restaurant Review Median: {merged.biz_stars.median()}, \n",
    "Restaurant Review Mean:, {merged.biz_stars.mean()}\"\"\")"
   ]
  },
  {
   "cell_type": "code",
   "execution_count": 15,
   "metadata": {},
   "outputs": [
    {
     "data": {
      "text/plain": [
       "'I mean it\\'s Taco Bell, so it is what it is. However, the girl at the counter was so rude I almost left. I felt like I had disturbed her when I \"made\" her take my order. There was one person in the place.'"
      ]
     },
     "execution_count": 15,
     "metadata": {},
     "output_type": "execute_result"
    }
   ],
   "source": [
    "merged.text[0]"
   ]
  },
  {
   "cell_type": "code",
   "execution_count": 16,
   "metadata": {},
   "outputs": [
    {
     "data": {
      "text/plain": [
       "4201684"
      ]
     },
     "execution_count": 16,
     "metadata": {},
     "output_type": "execute_result"
    }
   ],
   "source": [
    "len(merged)"
   ]
  },
  {
   "cell_type": "markdown",
   "metadata": {},
   "source": [
    "#### Note the distinction between biz stars and review stars: This shows the distribution statistics on just the biz score that we will be predicting. Ultimate goal: can the polarizing reviews early on in a restaurant life. "
   ]
  },
  {
   "cell_type": "code",
   "execution_count": 17,
   "metadata": {},
   "outputs": [
    {
     "name": "stdout",
     "output_type": "stream",
     "text": [
      "Restaurant Overall Score Median: 4.0, \n",
      "Restaurant Overall Score Mean: 3.718240948153169\n"
     ]
    }
   ],
   "source": [
    "# print(f\"\"\"Restaurant Reviews Median: {biz_reviews.review_stars.median()}, \n",
    "# Restaurant Reviews Mean:, {biz_reviews.review_stars.mean()}\"\"\")\n",
    "print(f\"\"\"Restaurant Overall Score Median: {merged.biz_stars.median()}, \n",
    "Restaurant Overall Score Mean: {merged.biz_stars.mean()}\"\"\")"
   ]
  },
  {
   "cell_type": "code",
   "execution_count": 18,
   "metadata": {},
   "outputs": [
    {
     "data": {
      "text/html": [
       "<div>\n",
       "<style scoped>\n",
       "    .dataframe tbody tr th:only-of-type {\n",
       "        vertical-align: middle;\n",
       "    }\n",
       "\n",
       "    .dataframe tbody tr th {\n",
       "        vertical-align: top;\n",
       "    }\n",
       "\n",
       "    .dataframe thead th {\n",
       "        text-align: right;\n",
       "    }\n",
       "</style>\n",
       "<table border=\"1\" class=\"dataframe\">\n",
       "  <thead>\n",
       "    <tr style=\"text-align: right;\">\n",
       "      <th></th>\n",
       "      <th>attributes</th>\n",
       "      <th>business_id</th>\n",
       "      <th>categories</th>\n",
       "      <th>city</th>\n",
       "      <th>name</th>\n",
       "      <th>review_count</th>\n",
       "      <th>biz_stars</th>\n",
       "      <th>state</th>\n",
       "      <th>date</th>\n",
       "      <th>review_stars</th>\n",
       "      <th>text</th>\n",
       "      <th>useful</th>\n",
       "    </tr>\n",
       "  </thead>\n",
       "  <tbody>\n",
       "    <tr>\n",
       "      <th>0</th>\n",
       "      <td>{'RestaurantsTakeOut': 'True', 'BusinessParkin...</td>\n",
       "      <td>1Dfx3zM-rW4n-31KeC8sJg</td>\n",
       "      <td>Restaurants, Breakfast &amp; Brunch, Mexican, Taco...</td>\n",
       "      <td>Phoenix</td>\n",
       "      <td>Taco Bell</td>\n",
       "      <td>18</td>\n",
       "      <td>3.0</td>\n",
       "      <td>AZ</td>\n",
       "      <td>2018-09-26 03:26:43</td>\n",
       "      <td>3.0</td>\n",
       "      <td>I mean it's Taco Bell, so it is what it is. Ho...</td>\n",
       "      <td>0</td>\n",
       "    </tr>\n",
       "    <tr>\n",
       "      <th>1</th>\n",
       "      <td>{'RestaurantsTakeOut': 'True', 'BusinessParkin...</td>\n",
       "      <td>1Dfx3zM-rW4n-31KeC8sJg</td>\n",
       "      <td>Restaurants, Breakfast &amp; Brunch, Mexican, Taco...</td>\n",
       "      <td>Phoenix</td>\n",
       "      <td>Taco Bell</td>\n",
       "      <td>18</td>\n",
       "      <td>3.0</td>\n",
       "      <td>AZ</td>\n",
       "      <td>2012-03-06 14:06:35</td>\n",
       "      <td>1.0</td>\n",
       "      <td>1 star for service, but the food is not ok :( ...</td>\n",
       "      <td>0</td>\n",
       "    </tr>\n",
       "  </tbody>\n",
       "</table>\n",
       "</div>"
      ],
      "text/plain": [
       "                                          attributes             business_id  \\\n",
       "0  {'RestaurantsTakeOut': 'True', 'BusinessParkin...  1Dfx3zM-rW4n-31KeC8sJg   \n",
       "1  {'RestaurantsTakeOut': 'True', 'BusinessParkin...  1Dfx3zM-rW4n-31KeC8sJg   \n",
       "\n",
       "                                          categories     city       name  \\\n",
       "0  Restaurants, Breakfast & Brunch, Mexican, Taco...  Phoenix  Taco Bell   \n",
       "1  Restaurants, Breakfast & Brunch, Mexican, Taco...  Phoenix  Taco Bell   \n",
       "\n",
       "   review_count  biz_stars state                 date  review_stars  \\\n",
       "0            18        3.0    AZ  2018-09-26 03:26:43           3.0   \n",
       "1            18        3.0    AZ  2012-03-06 14:06:35           1.0   \n",
       "\n",
       "                                                text  useful  \n",
       "0  I mean it's Taco Bell, so it is what it is. Ho...       0  \n",
       "1  1 star for service, but the food is not ok :( ...       0  "
      ]
     },
     "execution_count": 18,
     "metadata": {},
     "output_type": "execute_result"
    }
   ],
   "source": [
    "merged.head(2)"
   ]
  },
  {
   "cell_type": "code",
   "execution_count": 19,
   "metadata": {},
   "outputs": [],
   "source": [
    "def sort_review_time(df):\n",
    "    \"\"\"Convert date to datetime then restaurant names and review time per restaurant\"\"\"\n",
    "    \n",
    "    df['date'] = pd.to_datetime(df['date'])\n",
    "    df = df.sort_values(['business_id','date'])\n",
    "    df = df.reset_index(drop=True)\n",
    "    return df"
   ]
  },
  {
   "cell_type": "code",
   "execution_count": 20,
   "metadata": {},
   "outputs": [],
   "source": [
    "sorted_times = sort_review_time(merged)"
   ]
  },
  {
   "cell_type": "markdown",
   "metadata": {},
   "source": [
    "#### Note that for whatever reason the given review count column is off, and this is true in different ways for many of them, but not always. We need to fix it."
   ]
  },
  {
   "cell_type": "code",
   "execution_count": 21,
   "metadata": {},
   "outputs": [
    {
     "data": {
      "text/html": [
       "<div>\n",
       "<style scoped>\n",
       "    .dataframe tbody tr th:only-of-type {\n",
       "        vertical-align: middle;\n",
       "    }\n",
       "\n",
       "    .dataframe tbody tr th {\n",
       "        vertical-align: top;\n",
       "    }\n",
       "\n",
       "    .dataframe thead th {\n",
       "        text-align: right;\n",
       "    }\n",
       "</style>\n",
       "<table border=\"1\" class=\"dataframe\">\n",
       "  <thead>\n",
       "    <tr style=\"text-align: right;\">\n",
       "      <th></th>\n",
       "      <th>attributes</th>\n",
       "      <th>business_id</th>\n",
       "      <th>categories</th>\n",
       "      <th>city</th>\n",
       "      <th>name</th>\n",
       "      <th>review_count</th>\n",
       "      <th>biz_stars</th>\n",
       "      <th>state</th>\n",
       "      <th>date</th>\n",
       "      <th>review_stars</th>\n",
       "      <th>text</th>\n",
       "      <th>useful</th>\n",
       "    </tr>\n",
       "  </thead>\n",
       "  <tbody>\n",
       "    <tr>\n",
       "      <th>0</th>\n",
       "      <td>{'BusinessParking': '{'garage': False, 'street...</td>\n",
       "      <td>--1UhMGODdWsrMastO9DZw</td>\n",
       "      <td>Restaurants, Mexican</td>\n",
       "      <td>Calgary</td>\n",
       "      <td>The Spicy Amigos</td>\n",
       "      <td>24</td>\n",
       "      <td>4.0</td>\n",
       "      <td>AB</td>\n",
       "      <td>2016-04-21 18:21:32</td>\n",
       "      <td>4.0</td>\n",
       "      <td>Pros:\\n- Super Clean\\n- Authentic recipes for ...</td>\n",
       "      <td>2</td>\n",
       "    </tr>\n",
       "    <tr>\n",
       "      <th>1</th>\n",
       "      <td>{'BusinessParking': '{'garage': False, 'street...</td>\n",
       "      <td>--1UhMGODdWsrMastO9DZw</td>\n",
       "      <td>Restaurants, Mexican</td>\n",
       "      <td>Calgary</td>\n",
       "      <td>The Spicy Amigos</td>\n",
       "      <td>24</td>\n",
       "      <td>4.0</td>\n",
       "      <td>AB</td>\n",
       "      <td>2016-06-04 20:57:29</td>\n",
       "      <td>1.0</td>\n",
       "      <td>Greasy, tasteless meat, only used one taco ins...</td>\n",
       "      <td>5</td>\n",
       "    </tr>\n",
       "    <tr>\n",
       "      <th>2</th>\n",
       "      <td>{'BusinessParking': '{'garage': False, 'street...</td>\n",
       "      <td>--1UhMGODdWsrMastO9DZw</td>\n",
       "      <td>Restaurants, Mexican</td>\n",
       "      <td>Calgary</td>\n",
       "      <td>The Spicy Amigos</td>\n",
       "      <td>24</td>\n",
       "      <td>4.0</td>\n",
       "      <td>AB</td>\n",
       "      <td>2016-06-04 21:09:10</td>\n",
       "      <td>2.0</td>\n",
       "      <td>Went in hungry and interested, the selection l...</td>\n",
       "      <td>6</td>\n",
       "    </tr>\n",
       "    <tr>\n",
       "      <th>3</th>\n",
       "      <td>{'BusinessParking': '{'garage': False, 'street...</td>\n",
       "      <td>--1UhMGODdWsrMastO9DZw</td>\n",
       "      <td>Restaurants, Mexican</td>\n",
       "      <td>Calgary</td>\n",
       "      <td>The Spicy Amigos</td>\n",
       "      <td>24</td>\n",
       "      <td>4.0</td>\n",
       "      <td>AB</td>\n",
       "      <td>2016-06-13 19:01:34</td>\n",
       "      <td>3.0</td>\n",
       "      <td>One of the better down to earth Tacos I have h...</td>\n",
       "      <td>0</td>\n",
       "    </tr>\n",
       "    <tr>\n",
       "      <th>4</th>\n",
       "      <td>{'BusinessParking': '{'garage': False, 'street...</td>\n",
       "      <td>--1UhMGODdWsrMastO9DZw</td>\n",
       "      <td>Restaurants, Mexican</td>\n",
       "      <td>Calgary</td>\n",
       "      <td>The Spicy Amigos</td>\n",
       "      <td>24</td>\n",
       "      <td>4.0</td>\n",
       "      <td>AB</td>\n",
       "      <td>2016-06-18 23:39:03</td>\n",
       "      <td>5.0</td>\n",
       "      <td>Great food, service and price. Everything we t...</td>\n",
       "      <td>1</td>\n",
       "    </tr>\n",
       "    <tr>\n",
       "      <th>5</th>\n",
       "      <td>{'BusinessParking': '{'garage': False, 'street...</td>\n",
       "      <td>--1UhMGODdWsrMastO9DZw</td>\n",
       "      <td>Restaurants, Mexican</td>\n",
       "      <td>Calgary</td>\n",
       "      <td>The Spicy Amigos</td>\n",
       "      <td>24</td>\n",
       "      <td>4.0</td>\n",
       "      <td>AB</td>\n",
       "      <td>2016-07-16 21:44:33</td>\n",
       "      <td>5.0</td>\n",
       "      <td>First time here since it changed ownership. Ha...</td>\n",
       "      <td>0</td>\n",
       "    </tr>\n",
       "    <tr>\n",
       "      <th>6</th>\n",
       "      <td>{'BusinessParking': '{'garage': False, 'street...</td>\n",
       "      <td>--1UhMGODdWsrMastO9DZw</td>\n",
       "      <td>Restaurants, Mexican</td>\n",
       "      <td>Calgary</td>\n",
       "      <td>The Spicy Amigos</td>\n",
       "      <td>24</td>\n",
       "      <td>4.0</td>\n",
       "      <td>AB</td>\n",
       "      <td>2016-07-25 23:31:01</td>\n",
       "      <td>4.0</td>\n",
       "      <td>Came here for lunch last week and was pleasant...</td>\n",
       "      <td>0</td>\n",
       "    </tr>\n",
       "    <tr>\n",
       "      <th>7</th>\n",
       "      <td>{'BusinessParking': '{'garage': False, 'street...</td>\n",
       "      <td>--1UhMGODdWsrMastO9DZw</td>\n",
       "      <td>Restaurants, Mexican</td>\n",
       "      <td>Calgary</td>\n",
       "      <td>The Spicy Amigos</td>\n",
       "      <td>24</td>\n",
       "      <td>4.0</td>\n",
       "      <td>AB</td>\n",
       "      <td>2016-08-16 00:27:50</td>\n",
       "      <td>4.0</td>\n",
       "      <td>Spicy Amigos is the old Jalapeños. I'm not sur...</td>\n",
       "      <td>0</td>\n",
       "    </tr>\n",
       "    <tr>\n",
       "      <th>8</th>\n",
       "      <td>{'BusinessParking': '{'garage': False, 'street...</td>\n",
       "      <td>--1UhMGODdWsrMastO9DZw</td>\n",
       "      <td>Restaurants, Mexican</td>\n",
       "      <td>Calgary</td>\n",
       "      <td>The Spicy Amigos</td>\n",
       "      <td>24</td>\n",
       "      <td>4.0</td>\n",
       "      <td>AB</td>\n",
       "      <td>2016-09-07 15:18:25</td>\n",
       "      <td>5.0</td>\n",
       "      <td>In my last review I mentioned getting charged ...</td>\n",
       "      <td>0</td>\n",
       "    </tr>\n",
       "    <tr>\n",
       "      <th>9</th>\n",
       "      <td>{'BusinessParking': '{'garage': False, 'street...</td>\n",
       "      <td>--1UhMGODdWsrMastO9DZw</td>\n",
       "      <td>Restaurants, Mexican</td>\n",
       "      <td>Calgary</td>\n",
       "      <td>The Spicy Amigos</td>\n",
       "      <td>24</td>\n",
       "      <td>4.0</td>\n",
       "      <td>AB</td>\n",
       "      <td>2016-11-14 20:09:54</td>\n",
       "      <td>4.0</td>\n",
       "      <td>Great Mexican joint in the west side of downto...</td>\n",
       "      <td>1</td>\n",
       "    </tr>\n",
       "    <tr>\n",
       "      <th>10</th>\n",
       "      <td>{'BusinessParking': '{'garage': False, 'street...</td>\n",
       "      <td>--1UhMGODdWsrMastO9DZw</td>\n",
       "      <td>Restaurants, Mexican</td>\n",
       "      <td>Calgary</td>\n",
       "      <td>The Spicy Amigos</td>\n",
       "      <td>24</td>\n",
       "      <td>4.0</td>\n",
       "      <td>AB</td>\n",
       "      <td>2016-12-06 20:04:46</td>\n",
       "      <td>5.0</td>\n",
       "      <td>If you want Mexican for a reasonable price in ...</td>\n",
       "      <td>0</td>\n",
       "    </tr>\n",
       "    <tr>\n",
       "      <th>11</th>\n",
       "      <td>{'BusinessParking': '{'garage': False, 'street...</td>\n",
       "      <td>--1UhMGODdWsrMastO9DZw</td>\n",
       "      <td>Restaurants, Mexican</td>\n",
       "      <td>Calgary</td>\n",
       "      <td>The Spicy Amigos</td>\n",
       "      <td>24</td>\n",
       "      <td>4.0</td>\n",
       "      <td>AB</td>\n",
       "      <td>2017-04-03 21:04:06</td>\n",
       "      <td>5.0</td>\n",
       "      <td>We were in the mood for tacos, and came across...</td>\n",
       "      <td>0</td>\n",
       "    </tr>\n",
       "    <tr>\n",
       "      <th>12</th>\n",
       "      <td>{'BusinessParking': '{'garage': False, 'street...</td>\n",
       "      <td>--1UhMGODdWsrMastO9DZw</td>\n",
       "      <td>Restaurants, Mexican</td>\n",
       "      <td>Calgary</td>\n",
       "      <td>The Spicy Amigos</td>\n",
       "      <td>24</td>\n",
       "      <td>4.0</td>\n",
       "      <td>AB</td>\n",
       "      <td>2017-05-01 02:36:44</td>\n",
       "      <td>5.0</td>\n",
       "      <td>Fantastic spot for lunch with great value for ...</td>\n",
       "      <td>2</td>\n",
       "    </tr>\n",
       "    <tr>\n",
       "      <th>13</th>\n",
       "      <td>{'BusinessParking': '{'garage': False, 'street...</td>\n",
       "      <td>--1UhMGODdWsrMastO9DZw</td>\n",
       "      <td>Restaurants, Mexican</td>\n",
       "      <td>Calgary</td>\n",
       "      <td>The Spicy Amigos</td>\n",
       "      <td>24</td>\n",
       "      <td>4.0</td>\n",
       "      <td>AB</td>\n",
       "      <td>2017-05-09 00:32:24</td>\n",
       "      <td>4.0</td>\n",
       "      <td>Downtown west which honestly feels like Downto...</td>\n",
       "      <td>0</td>\n",
       "    </tr>\n",
       "    <tr>\n",
       "      <th>14</th>\n",
       "      <td>{'BusinessParking': '{'garage': False, 'street...</td>\n",
       "      <td>--1UhMGODdWsrMastO9DZw</td>\n",
       "      <td>Restaurants, Mexican</td>\n",
       "      <td>Calgary</td>\n",
       "      <td>The Spicy Amigos</td>\n",
       "      <td>24</td>\n",
       "      <td>4.0</td>\n",
       "      <td>AB</td>\n",
       "      <td>2017-05-09 18:57:16</td>\n",
       "      <td>4.0</td>\n",
       "      <td>Very good Mexican food and very convenient loc...</td>\n",
       "      <td>0</td>\n",
       "    </tr>\n",
       "    <tr>\n",
       "      <th>15</th>\n",
       "      <td>{'BusinessParking': '{'garage': False, 'street...</td>\n",
       "      <td>--1UhMGODdWsrMastO9DZw</td>\n",
       "      <td>Restaurants, Mexican</td>\n",
       "      <td>Calgary</td>\n",
       "      <td>The Spicy Amigos</td>\n",
       "      <td>24</td>\n",
       "      <td>4.0</td>\n",
       "      <td>AB</td>\n",
       "      <td>2017-05-10 17:34:06</td>\n",
       "      <td>5.0</td>\n",
       "      <td>A little hole in the wall for some really deli...</td>\n",
       "      <td>0</td>\n",
       "    </tr>\n",
       "    <tr>\n",
       "      <th>16</th>\n",
       "      <td>{'BusinessParking': '{'garage': False, 'street...</td>\n",
       "      <td>--1UhMGODdWsrMastO9DZw</td>\n",
       "      <td>Restaurants, Mexican</td>\n",
       "      <td>Calgary</td>\n",
       "      <td>The Spicy Amigos</td>\n",
       "      <td>24</td>\n",
       "      <td>4.0</td>\n",
       "      <td>AB</td>\n",
       "      <td>2017-06-17 20:06:11</td>\n",
       "      <td>5.0</td>\n",
       "      <td>If you are looking for authentic Mexican stree...</td>\n",
       "      <td>0</td>\n",
       "    </tr>\n",
       "    <tr>\n",
       "      <th>17</th>\n",
       "      <td>{'BusinessParking': '{'garage': False, 'street...</td>\n",
       "      <td>--1UhMGODdWsrMastO9DZw</td>\n",
       "      <td>Restaurants, Mexican</td>\n",
       "      <td>Calgary</td>\n",
       "      <td>The Spicy Amigos</td>\n",
       "      <td>24</td>\n",
       "      <td>4.0</td>\n",
       "      <td>AB</td>\n",
       "      <td>2017-07-26 17:27:49</td>\n",
       "      <td>5.0</td>\n",
       "      <td>Delicious! One of the best burritos, salsa and...</td>\n",
       "      <td>0</td>\n",
       "    </tr>\n",
       "    <tr>\n",
       "      <th>18</th>\n",
       "      <td>{'BusinessParking': '{'garage': False, 'street...</td>\n",
       "      <td>--1UhMGODdWsrMastO9DZw</td>\n",
       "      <td>Restaurants, Mexican</td>\n",
       "      <td>Calgary</td>\n",
       "      <td>The Spicy Amigos</td>\n",
       "      <td>24</td>\n",
       "      <td>4.0</td>\n",
       "      <td>AB</td>\n",
       "      <td>2017-08-09 18:12:06</td>\n",
       "      <td>4.0</td>\n",
       "      <td>Tasty, authentic Mexican street food that give...</td>\n",
       "      <td>0</td>\n",
       "    </tr>\n",
       "    <tr>\n",
       "      <th>19</th>\n",
       "      <td>{'BusinessParking': '{'garage': False, 'street...</td>\n",
       "      <td>--1UhMGODdWsrMastO9DZw</td>\n",
       "      <td>Restaurants, Mexican</td>\n",
       "      <td>Calgary</td>\n",
       "      <td>The Spicy Amigos</td>\n",
       "      <td>24</td>\n",
       "      <td>4.0</td>\n",
       "      <td>AB</td>\n",
       "      <td>2017-08-27 03:06:39</td>\n",
       "      <td>4.0</td>\n",
       "      <td>Friendly, fresh, authentic Mexican food for a ...</td>\n",
       "      <td>0</td>\n",
       "    </tr>\n",
       "    <tr>\n",
       "      <th>20</th>\n",
       "      <td>{'BusinessParking': '{'garage': False, 'street...</td>\n",
       "      <td>--1UhMGODdWsrMastO9DZw</td>\n",
       "      <td>Restaurants, Mexican</td>\n",
       "      <td>Calgary</td>\n",
       "      <td>The Spicy Amigos</td>\n",
       "      <td>24</td>\n",
       "      <td>4.0</td>\n",
       "      <td>AB</td>\n",
       "      <td>2017-12-12 19:08:18</td>\n",
       "      <td>5.0</td>\n",
       "      <td>Absolutely delicious! And great service as wel...</td>\n",
       "      <td>0</td>\n",
       "    </tr>\n",
       "    <tr>\n",
       "      <th>21</th>\n",
       "      <td>{'BusinessParking': '{'garage': False, 'street...</td>\n",
       "      <td>--1UhMGODdWsrMastO9DZw</td>\n",
       "      <td>Restaurants, Mexican</td>\n",
       "      <td>Calgary</td>\n",
       "      <td>The Spicy Amigos</td>\n",
       "      <td>24</td>\n",
       "      <td>4.0</td>\n",
       "      <td>AB</td>\n",
       "      <td>2017-12-23 00:49:01</td>\n",
       "      <td>5.0</td>\n",
       "      <td>This is our first time here with the renovatio...</td>\n",
       "      <td>0</td>\n",
       "    </tr>\n",
       "    <tr>\n",
       "      <th>22</th>\n",
       "      <td>{'BusinessParking': '{'garage': False, 'street...</td>\n",
       "      <td>--1UhMGODdWsrMastO9DZw</td>\n",
       "      <td>Restaurants, Mexican</td>\n",
       "      <td>Calgary</td>\n",
       "      <td>The Spicy Amigos</td>\n",
       "      <td>24</td>\n",
       "      <td>4.0</td>\n",
       "      <td>AB</td>\n",
       "      <td>2018-01-11 19:55:31</td>\n",
       "      <td>5.0</td>\n",
       "      <td>Glad these guys moved in on the block! It's qu...</td>\n",
       "      <td>0</td>\n",
       "    </tr>\n",
       "    <tr>\n",
       "      <th>23</th>\n",
       "      <td>{'BusinessParking': '{'garage': False, 'street...</td>\n",
       "      <td>--1UhMGODdWsrMastO9DZw</td>\n",
       "      <td>Restaurants, Mexican</td>\n",
       "      <td>Calgary</td>\n",
       "      <td>The Spicy Amigos</td>\n",
       "      <td>24</td>\n",
       "      <td>4.0</td>\n",
       "      <td>AB</td>\n",
       "      <td>2018-02-25 17:47:12</td>\n",
       "      <td>5.0</td>\n",
       "      <td>Came here for dinner on a whim was not disappo...</td>\n",
       "      <td>0</td>\n",
       "    </tr>\n",
       "    <tr>\n",
       "      <th>24</th>\n",
       "      <td>{'BusinessParking': '{'garage': False, 'street...</td>\n",
       "      <td>--1UhMGODdWsrMastO9DZw</td>\n",
       "      <td>Restaurants, Mexican</td>\n",
       "      <td>Calgary</td>\n",
       "      <td>The Spicy Amigos</td>\n",
       "      <td>24</td>\n",
       "      <td>4.0</td>\n",
       "      <td>AB</td>\n",
       "      <td>2018-04-22 17:42:09</td>\n",
       "      <td>2.0</td>\n",
       "      <td>I have been in search of good grilled steak ta...</td>\n",
       "      <td>0</td>\n",
       "    </tr>\n",
       "    <tr>\n",
       "      <th>25</th>\n",
       "      <td>{'BusinessParking': '{'garage': False, 'street...</td>\n",
       "      <td>--1UhMGODdWsrMastO9DZw</td>\n",
       "      <td>Restaurants, Mexican</td>\n",
       "      <td>Calgary</td>\n",
       "      <td>The Spicy Amigos</td>\n",
       "      <td>24</td>\n",
       "      <td>4.0</td>\n",
       "      <td>AB</td>\n",
       "      <td>2018-05-06 04:22:48</td>\n",
       "      <td>1.0</td>\n",
       "      <td>I had the chicken Tinga enchilada in mole sauc...</td>\n",
       "      <td>0</td>\n",
       "    </tr>\n",
       "    <tr>\n",
       "      <th>26</th>\n",
       "      <td>{'BusinessParking': '{'garage': False, 'street...</td>\n",
       "      <td>--6MefnULPED_I942VcFNA</td>\n",
       "      <td>Chinese, Restaurants</td>\n",
       "      <td>Richmond Hill</td>\n",
       "      <td>John's Chinese BBQ Restaurant</td>\n",
       "      <td>44</td>\n",
       "      <td>3.0</td>\n",
       "      <td>ON</td>\n",
       "      <td>2008-08-07 20:26:22</td>\n",
       "      <td>5.0</td>\n",
       "      <td>Chinese name of this place, Canto pronounciati...</td>\n",
       "      <td>8</td>\n",
       "    </tr>\n",
       "  </tbody>\n",
       "</table>\n",
       "</div>"
      ],
      "text/plain": [
       "                                           attributes             business_id  \\\n",
       "0   {'BusinessParking': '{'garage': False, 'street...  --1UhMGODdWsrMastO9DZw   \n",
       "1   {'BusinessParking': '{'garage': False, 'street...  --1UhMGODdWsrMastO9DZw   \n",
       "2   {'BusinessParking': '{'garage': False, 'street...  --1UhMGODdWsrMastO9DZw   \n",
       "3   {'BusinessParking': '{'garage': False, 'street...  --1UhMGODdWsrMastO9DZw   \n",
       "4   {'BusinessParking': '{'garage': False, 'street...  --1UhMGODdWsrMastO9DZw   \n",
       "5   {'BusinessParking': '{'garage': False, 'street...  --1UhMGODdWsrMastO9DZw   \n",
       "6   {'BusinessParking': '{'garage': False, 'street...  --1UhMGODdWsrMastO9DZw   \n",
       "7   {'BusinessParking': '{'garage': False, 'street...  --1UhMGODdWsrMastO9DZw   \n",
       "8   {'BusinessParking': '{'garage': False, 'street...  --1UhMGODdWsrMastO9DZw   \n",
       "9   {'BusinessParking': '{'garage': False, 'street...  --1UhMGODdWsrMastO9DZw   \n",
       "10  {'BusinessParking': '{'garage': False, 'street...  --1UhMGODdWsrMastO9DZw   \n",
       "11  {'BusinessParking': '{'garage': False, 'street...  --1UhMGODdWsrMastO9DZw   \n",
       "12  {'BusinessParking': '{'garage': False, 'street...  --1UhMGODdWsrMastO9DZw   \n",
       "13  {'BusinessParking': '{'garage': False, 'street...  --1UhMGODdWsrMastO9DZw   \n",
       "14  {'BusinessParking': '{'garage': False, 'street...  --1UhMGODdWsrMastO9DZw   \n",
       "15  {'BusinessParking': '{'garage': False, 'street...  --1UhMGODdWsrMastO9DZw   \n",
       "16  {'BusinessParking': '{'garage': False, 'street...  --1UhMGODdWsrMastO9DZw   \n",
       "17  {'BusinessParking': '{'garage': False, 'street...  --1UhMGODdWsrMastO9DZw   \n",
       "18  {'BusinessParking': '{'garage': False, 'street...  --1UhMGODdWsrMastO9DZw   \n",
       "19  {'BusinessParking': '{'garage': False, 'street...  --1UhMGODdWsrMastO9DZw   \n",
       "20  {'BusinessParking': '{'garage': False, 'street...  --1UhMGODdWsrMastO9DZw   \n",
       "21  {'BusinessParking': '{'garage': False, 'street...  --1UhMGODdWsrMastO9DZw   \n",
       "22  {'BusinessParking': '{'garage': False, 'street...  --1UhMGODdWsrMastO9DZw   \n",
       "23  {'BusinessParking': '{'garage': False, 'street...  --1UhMGODdWsrMastO9DZw   \n",
       "24  {'BusinessParking': '{'garage': False, 'street...  --1UhMGODdWsrMastO9DZw   \n",
       "25  {'BusinessParking': '{'garage': False, 'street...  --1UhMGODdWsrMastO9DZw   \n",
       "26  {'BusinessParking': '{'garage': False, 'street...  --6MefnULPED_I942VcFNA   \n",
       "\n",
       "              categories           city                           name  \\\n",
       "0   Restaurants, Mexican        Calgary               The Spicy Amigos   \n",
       "1   Restaurants, Mexican        Calgary               The Spicy Amigos   \n",
       "2   Restaurants, Mexican        Calgary               The Spicy Amigos   \n",
       "3   Restaurants, Mexican        Calgary               The Spicy Amigos   \n",
       "4   Restaurants, Mexican        Calgary               The Spicy Amigos   \n",
       "5   Restaurants, Mexican        Calgary               The Spicy Amigos   \n",
       "6   Restaurants, Mexican        Calgary               The Spicy Amigos   \n",
       "7   Restaurants, Mexican        Calgary               The Spicy Amigos   \n",
       "8   Restaurants, Mexican        Calgary               The Spicy Amigos   \n",
       "9   Restaurants, Mexican        Calgary               The Spicy Amigos   \n",
       "10  Restaurants, Mexican        Calgary               The Spicy Amigos   \n",
       "11  Restaurants, Mexican        Calgary               The Spicy Amigos   \n",
       "12  Restaurants, Mexican        Calgary               The Spicy Amigos   \n",
       "13  Restaurants, Mexican        Calgary               The Spicy Amigos   \n",
       "14  Restaurants, Mexican        Calgary               The Spicy Amigos   \n",
       "15  Restaurants, Mexican        Calgary               The Spicy Amigos   \n",
       "16  Restaurants, Mexican        Calgary               The Spicy Amigos   \n",
       "17  Restaurants, Mexican        Calgary               The Spicy Amigos   \n",
       "18  Restaurants, Mexican        Calgary               The Spicy Amigos   \n",
       "19  Restaurants, Mexican        Calgary               The Spicy Amigos   \n",
       "20  Restaurants, Mexican        Calgary               The Spicy Amigos   \n",
       "21  Restaurants, Mexican        Calgary               The Spicy Amigos   \n",
       "22  Restaurants, Mexican        Calgary               The Spicy Amigos   \n",
       "23  Restaurants, Mexican        Calgary               The Spicy Amigos   \n",
       "24  Restaurants, Mexican        Calgary               The Spicy Amigos   \n",
       "25  Restaurants, Mexican        Calgary               The Spicy Amigos   \n",
       "26  Chinese, Restaurants  Richmond Hill  John's Chinese BBQ Restaurant   \n",
       "\n",
       "    review_count  biz_stars state                date  review_stars  \\\n",
       "0             24        4.0    AB 2016-04-21 18:21:32           4.0   \n",
       "1             24        4.0    AB 2016-06-04 20:57:29           1.0   \n",
       "2             24        4.0    AB 2016-06-04 21:09:10           2.0   \n",
       "3             24        4.0    AB 2016-06-13 19:01:34           3.0   \n",
       "4             24        4.0    AB 2016-06-18 23:39:03           5.0   \n",
       "5             24        4.0    AB 2016-07-16 21:44:33           5.0   \n",
       "6             24        4.0    AB 2016-07-25 23:31:01           4.0   \n",
       "7             24        4.0    AB 2016-08-16 00:27:50           4.0   \n",
       "8             24        4.0    AB 2016-09-07 15:18:25           5.0   \n",
       "9             24        4.0    AB 2016-11-14 20:09:54           4.0   \n",
       "10            24        4.0    AB 2016-12-06 20:04:46           5.0   \n",
       "11            24        4.0    AB 2017-04-03 21:04:06           5.0   \n",
       "12            24        4.0    AB 2017-05-01 02:36:44           5.0   \n",
       "13            24        4.0    AB 2017-05-09 00:32:24           4.0   \n",
       "14            24        4.0    AB 2017-05-09 18:57:16           4.0   \n",
       "15            24        4.0    AB 2017-05-10 17:34:06           5.0   \n",
       "16            24        4.0    AB 2017-06-17 20:06:11           5.0   \n",
       "17            24        4.0    AB 2017-07-26 17:27:49           5.0   \n",
       "18            24        4.0    AB 2017-08-09 18:12:06           4.0   \n",
       "19            24        4.0    AB 2017-08-27 03:06:39           4.0   \n",
       "20            24        4.0    AB 2017-12-12 19:08:18           5.0   \n",
       "21            24        4.0    AB 2017-12-23 00:49:01           5.0   \n",
       "22            24        4.0    AB 2018-01-11 19:55:31           5.0   \n",
       "23            24        4.0    AB 2018-02-25 17:47:12           5.0   \n",
       "24            24        4.0    AB 2018-04-22 17:42:09           2.0   \n",
       "25            24        4.0    AB 2018-05-06 04:22:48           1.0   \n",
       "26            44        3.0    ON 2008-08-07 20:26:22           5.0   \n",
       "\n",
       "                                                 text  useful  \n",
       "0   Pros:\\n- Super Clean\\n- Authentic recipes for ...       2  \n",
       "1   Greasy, tasteless meat, only used one taco ins...       5  \n",
       "2   Went in hungry and interested, the selection l...       6  \n",
       "3   One of the better down to earth Tacos I have h...       0  \n",
       "4   Great food, service and price. Everything we t...       1  \n",
       "5   First time here since it changed ownership. Ha...       0  \n",
       "6   Came here for lunch last week and was pleasant...       0  \n",
       "7   Spicy Amigos is the old Jalapeños. I'm not sur...       0  \n",
       "8   In my last review I mentioned getting charged ...       0  \n",
       "9   Great Mexican joint in the west side of downto...       1  \n",
       "10  If you want Mexican for a reasonable price in ...       0  \n",
       "11  We were in the mood for tacos, and came across...       0  \n",
       "12  Fantastic spot for lunch with great value for ...       2  \n",
       "13  Downtown west which honestly feels like Downto...       0  \n",
       "14  Very good Mexican food and very convenient loc...       0  \n",
       "15  A little hole in the wall for some really deli...       0  \n",
       "16  If you are looking for authentic Mexican stree...       0  \n",
       "17  Delicious! One of the best burritos, salsa and...       0  \n",
       "18  Tasty, authentic Mexican street food that give...       0  \n",
       "19  Friendly, fresh, authentic Mexican food for a ...       0  \n",
       "20  Absolutely delicious! And great service as wel...       0  \n",
       "21  This is our first time here with the renovatio...       0  \n",
       "22  Glad these guys moved in on the block! It's qu...       0  \n",
       "23  Came here for dinner on a whim was not disappo...       0  \n",
       "24  I have been in search of good grilled steak ta...       0  \n",
       "25  I had the chicken Tinga enchilada in mole sauc...       0  \n",
       "26  Chinese name of this place, Canto pronounciati...       8  "
      ]
     },
     "execution_count": 21,
     "metadata": {},
     "output_type": "execute_result"
    }
   ],
   "source": [
    "sorted_times.head(27)"
   ]
  },
  {
   "cell_type": "markdown",
   "metadata": {},
   "source": [
    "#### This adds a column of real counts based on the data at hand, gets rid of given one"
   ]
  },
  {
   "cell_type": "code",
   "execution_count": 22,
   "metadata": {},
   "outputs": [],
   "source": [
    "sorted_times['real_counts'] = sorted_times.groupby(['business_id'])['text'].transform('count')\n",
    "sorted_times = sorted_times.drop(['review_count'], axis=1)"
   ]
  },
  {
   "cell_type": "code",
   "execution_count": 24,
   "metadata": {},
   "outputs": [
    {
     "name": "stdout",
     "output_type": "stream",
     "text": [
      "4201684\n"
     ]
    }
   ],
   "source": [
    "print(len(sorted_times))"
   ]
  },
  {
   "cell_type": "markdown",
   "metadata": {},
   "source": [
    "#### Note the huge amount of low-review count. We could ignore all of those perhaps, and still have a huge dataset."
   ]
  },
  {
   "cell_type": "code",
   "execution_count": 25,
   "metadata": {},
   "outputs": [
    {
     "name": "stdout",
     "output_type": "stream",
     "text": [
      "Review Count .25 Quantile): 83.0\n",
      "Observations: 4201684\n"
     ]
    },
    {
     "data": {
      "image/png": "[encoded data removed]",
      "text/plain": [
       "<Figure size 432x288 with 1 Axes>"
      ]
     },
     "metadata": {
      "needs_background": "light"
     },
     "output_type": "display_data"
    }
   ],
   "source": [
    "def plot_counts(df, pct=.25, max=10000):\n",
    "    data = df.copy()\n",
    "    min = data.real_counts.quantile(pct)\n",
    "    print(f\"Review Count .25 Quantile): {data.real_counts.quantile(.25)}\")\n",
    "    print(f\"Observations: {len(data)}\")\n",
    "    data = data[data.real_counts > min]\n",
    "    data = data[data.real_counts < max]\n",
    "    data = data.groupby(['business_id'])['real_counts'].mean()\n",
    "    plt.hist(data, bins=25, density=True)\n",
    "    plt.show()\n",
    "plot_counts(sorted_times)"
   ]
  },
  {
   "cell_type": "code",
   "execution_count": 26,
   "metadata": {},
   "outputs": [],
   "source": [
    "sorted_times = sorted_times[sorted_times.real_counts > sorted_times.real_counts.quantile(.25)]"
   ]
  }
 ],
 "metadata": {
  "kernelspec": {
   "display_name": "Python 3",
   "language": "python",
   "name": "python3"
  },
  "language_info": {
   "codemirror_mode": {
    "name": "ipython",
    "version": 3
   },
   "file_extension": ".py",
   "mimetype": "text/x-python",
   "name": "python",
   "nbconvert_exporter": "python",
   "pygments_lexer": "ipython3",
   "version": "3.7.2"
  }
 },
 "nbformat": 4,
 "nbformat_minor": 2
}
