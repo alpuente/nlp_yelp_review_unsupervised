{
 "cells": [
  {
   "cell_type": "code",
   "execution_count": 72,
   "metadata": {},
   "outputs": [
    {
     "name": "stderr",
     "output_type": "stream",
     "text": [
      "[nltk_data] Downloading package stopwords to /home/ubuntu/nltk_data...\n",
      "[nltk_data]   Package stopwords is already up-to-date!\n"
     ]
    }
   ],
   "source": [
    "import pickle\n",
    "import gensim\n",
    "import pyLDAvis\n",
    "import pyLDAvis.gensim\n",
    "import spacy\n",
    "import pandas as pd\n",
    "import nltk; nltk.download('stopwords')\n",
    "import gensim.corpora as corpora\n",
    "from gensim.utils import simple_preprocess\n",
    "from gensim.models import CoherenceModel\n",
    "import re\n",
    "import warnings\n",
    "from pprint import pprint"
   ]
  },
  {
   "cell_type": "markdown",
   "metadata": {},
   "source": [
    "## Trigram, Stop-word Removal, Lemmatize"
   ]
  },
  {
   "cell_type": "code",
   "execution_count": 294,
   "metadata": {},
   "outputs": [],
   "source": [
    "with open('rev_2016_df.pkl', 'rb') as f:\n",
    "    rev_train = pickle.load(f)\n",
    "with open('rev_2017.pkl', 'rb') as f:\n",
    "    rev_test = pickle.load(f)"
   ]
  },
  {
   "cell_type": "code",
   "execution_count": 296,
   "metadata": {},
   "outputs": [],
   "source": [
    "rev_train = rev_train.sample(frac=.3, random_state=1).reset_index(drop=True)\n",
    "rev_test = rev_test.sample(frac=.3, random_state=1).reset_index(drop=True)"
   ]
  },
  {
   "cell_type": "code",
   "execution_count": 327,
   "metadata": {},
   "outputs": [
    {
     "data": {
      "text/plain": [
       "155924"
      ]
     },
     "execution_count": 327,
     "metadata": {},
     "output_type": "execute_result"
    }
   ],
   "source": [
    "len(rev_train)"
   ]
  },
  {
   "cell_type": "code",
   "execution_count": 298,
   "metadata": {},
   "outputs": [],
   "source": [
    "from nltk.corpus import stopwords\n",
    "stop_words = stopwords.words('english')"
   ]
  },
  {
   "cell_type": "code",
   "execution_count": 301,
   "metadata": {},
   "outputs": [
    {
     "data": {
      "text/plain": [
       "['i',\n",
       " 'me',\n",
       " 'my',\n",
       " 'myself',\n",
       " 'we',\n",
       " 'our',\n",
       " 'ours',\n",
       " 'ourselves',\n",
       " 'you',\n",
       " \"you're\",\n",
       " \"you've\",\n",
       " \"you'll\",\n",
       " \"you'd\",\n",
       " 'your',\n",
       " 'yours',\n",
       " 'yourself',\n",
       " 'yourselves',\n",
       " 'he',\n",
       " 'him',\n",
       " 'his',\n",
       " 'himself',\n",
       " 'she',\n",
       " \"she's\",\n",
       " 'her',\n",
       " 'hers',\n",
       " 'herself',\n",
       " 'it',\n",
       " \"it's\",\n",
       " 'its',\n",
       " 'itself',\n",
       " 'they',\n",
       " 'them',\n",
       " 'their',\n",
       " 'theirs',\n",
       " 'themselves',\n",
       " 'what',\n",
       " 'which',\n",
       " 'who',\n",
       " 'whom',\n",
       " 'this',\n",
       " 'that',\n",
       " \"that'll\",\n",
       " 'these',\n",
       " 'those',\n",
       " 'am',\n",
       " 'is',\n",
       " 'are',\n",
       " 'was',\n",
       " 'were',\n",
       " 'be',\n",
       " 'been',\n",
       " 'being',\n",
       " 'have',\n",
       " 'has',\n",
       " 'had',\n",
       " 'having',\n",
       " 'do',\n",
       " 'does',\n",
       " 'did',\n",
       " 'doing',\n",
       " 'a',\n",
       " 'an',\n",
       " 'the',\n",
       " 'and',\n",
       " 'but',\n",
       " 'if',\n",
       " 'or',\n",
       " 'because',\n",
       " 'as',\n",
       " 'until',\n",
       " 'while',\n",
       " 'of',\n",
       " 'at',\n",
       " 'by',\n",
       " 'for',\n",
       " 'with',\n",
       " 'about',\n",
       " 'against',\n",
       " 'between',\n",
       " 'into',\n",
       " 'through',\n",
       " 'during',\n",
       " 'before',\n",
       " 'after',\n",
       " 'above',\n",
       " 'below',\n",
       " 'to',\n",
       " 'from',\n",
       " 'up',\n",
       " 'down',\n",
       " 'in',\n",
       " 'out',\n",
       " 'on',\n",
       " 'off',\n",
       " 'over',\n",
       " 'under',\n",
       " 'again',\n",
       " 'further',\n",
       " 'then',\n",
       " 'once',\n",
       " 'here',\n",
       " 'there',\n",
       " 'when',\n",
       " 'where',\n",
       " 'why',\n",
       " 'how',\n",
       " 'all',\n",
       " 'any',\n",
       " 'both',\n",
       " 'each',\n",
       " 'few',\n",
       " 'more',\n",
       " 'most',\n",
       " 'other',\n",
       " 'some',\n",
       " 'such',\n",
       " 'no',\n",
       " 'nor',\n",
       " 'not',\n",
       " 'only',\n",
       " 'own',\n",
       " 'same',\n",
       " 'so',\n",
       " 'than',\n",
       " 'too',\n",
       " 'very',\n",
       " 's',\n",
       " 't',\n",
       " 'can',\n",
       " 'will',\n",
       " 'just',\n",
       " 'don',\n",
       " \"don't\",\n",
       " 'should',\n",
       " \"should've\",\n",
       " 'now',\n",
       " 'd',\n",
       " 'll',\n",
       " 'm',\n",
       " 'o',\n",
       " 're',\n",
       " 've',\n",
       " 'y',\n",
       " 'ain',\n",
       " 'aren',\n",
       " \"aren't\",\n",
       " 'couldn',\n",
       " \"couldn't\",\n",
       " 'didn',\n",
       " \"didn't\",\n",
       " 'doesn',\n",
       " \"doesn't\",\n",
       " 'hadn',\n",
       " \"hadn't\",\n",
       " 'hasn',\n",
       " \"hasn't\",\n",
       " 'haven',\n",
       " \"haven't\",\n",
       " 'isn',\n",
       " \"isn't\",\n",
       " 'ma',\n",
       " 'mightn',\n",
       " \"mightn't\",\n",
       " 'mustn',\n",
       " \"mustn't\",\n",
       " 'needn',\n",
       " \"needn't\",\n",
       " 'shan',\n",
       " \"shan't\",\n",
       " 'shouldn',\n",
       " \"shouldn't\",\n",
       " 'wasn',\n",
       " \"wasn't\",\n",
       " 'weren',\n",
       " \"weren't\",\n",
       " 'won',\n",
       " \"won't\",\n",
       " 'wouldn',\n",
       " \"wouldn't\",\n",
       " 'come',\n",
       " 'order',\n",
       " 'try',\n",
       " 'go',\n",
       " 'place',\n",
       " 'get',\n",
       " 'make',\n",
       " 'drink',\n",
       " 'plate',\n",
       " 'dish',\n",
       " 'restaurant',\n",
       " 'place',\n",
       " 'come',\n",
       " 'order',\n",
       " 'try',\n",
       " 'go',\n",
       " 'place',\n",
       " 'get',\n",
       " 'make',\n",
       " 'drink',\n",
       " 'plate',\n",
       " 'dish',\n",
       " 'restaurant',\n",
       " 'place',\n",
       " 'come',\n",
       " 'order',\n",
       " 'try',\n",
       " 'go',\n",
       " 'get',\n",
       " 'make',\n",
       " 'drink',\n",
       " 'plate',\n",
       " 'dish',\n",
       " 'restaurant',\n",
       " 'place']"
      ]
     },
     "execution_count": 301,
     "metadata": {},
     "output_type": "execute_result"
    }
   ],
   "source": [
    "stop_words.extend(['come','order','try','go','get','make','drink','plate','dish','restaurant','place'])\n",
    "stop_words"
   ]
  },
  {
   "cell_type": "markdown",
   "metadata": {},
   "source": [
    "#### Remove new lines"
   ]
  },
  {
   "cell_type": "code",
   "execution_count": 302,
   "metadata": {},
   "outputs": [],
   "source": [
    "def strip_newline(series):\n",
    "    return [review.replace('\\n','') for review in series]"
   ]
  },
  {
   "cell_type": "code",
   "execution_count": 395,
   "metadata": {},
   "outputs": [
    {
     "data": {
      "text/plain": [
       "array(['This place has the best Chicken Parmesan I have ever had. And this is my favorite meal ever and I have tried this at hundreds of restaurants! Wow, this blew me away. It was served as a huge portion in a square shape. Very thin, and creative the way it was cooked and presented. I am planning a trip back to Las Vegas in the coming months just to have this again!'],\n",
       "      dtype=object)"
      ]
     },
     "execution_count": 395,
     "metadata": {},
     "output_type": "execute_result"
    }
   ],
   "source": [
    "rev_train['text'] = strip_newline(rev_train.text)\n",
    "rev_test['text'] = strip_newline(rev_test.text)\n",
    "rev_train.text[21:22].values"
   ]
  },
  {
   "cell_type": "markdown",
   "metadata": {},
   "source": [
    "#### Tokenize and remove punctuation"
   ]
  },
  {
   "cell_type": "code",
   "execution_count": 304,
   "metadata": {},
   "outputs": [],
   "source": [
    "def sent_to_words(sentences):\n",
    "    for sentence in sentences:\n",
    "        yield(gensim.utils.simple_preprocess(str(sentence), deacc=True))"
   ]
  },
  {
   "cell_type": "code",
   "execution_count": 305,
   "metadata": {},
   "outputs": [],
   "source": [
    "words_tr = list(sent_to_words(rev_train.text))\n",
    "words_te = list(sent_to_words(rev_test.text))"
   ]
  },
  {
   "cell_type": "code",
   "execution_count": 306,
   "metadata": {},
   "outputs": [
    {
     "data": {
      "text/plain": [
       "['this',\n",
       " 'place',\n",
       " 'has',\n",
       " 'the',\n",
       " 'best',\n",
       " 'chicken',\n",
       " 'parmesan',\n",
       " 'have',\n",
       " 'ever',\n",
       " 'had']"
      ]
     },
     "execution_count": 306,
     "metadata": {},
     "output_type": "execute_result"
    }
   ],
   "source": [
    "words_tr[21][:10]"
   ]
  },
  {
   "cell_type": "code",
   "execution_count": 307,
   "metadata": {},
   "outputs": [],
   "source": [
    "def remove_stopwords(texts):\n",
    "    return [[word for word in simple_preprocess(str(doc)) if word not in stop_words] for doc in texts]"
   ]
  },
  {
   "cell_type": "code",
   "execution_count": 308,
   "metadata": {},
   "outputs": [],
   "source": [
    "words_tr = remove_stopwords(words_tr)"
   ]
  },
  {
   "cell_type": "code",
   "execution_count": 309,
   "metadata": {},
   "outputs": [],
   "source": [
    "def bigrams(words, bi_min=15, tri_min=10):\n",
    "    bigram = gensim.models.Phrases(words, min_count = bi_min)\n",
    "    trigram = gensim.models.Phrases(bigram[words], min_count = tri_min)\n",
    "    bigram_mod = gensim.models.phrases.Phraser(bigram)\n",
    "    trigram_mod = gensim.models.phrases.Phraser(trigram)\n",
    "    return bigram_mod, trigram_mod"
   ]
  },
  {
   "cell_type": "code",
   "execution_count": 310,
   "metadata": {},
   "outputs": [
    {
     "name": "stderr",
     "output_type": "stream",
     "text": [
      "/home/ubuntu/anaconda3/lib/python3.7/site-packages/gensim/models/phrases.py:494: UserWarning: For a faster implementation, use the gensim.models.phrases.Phraser class\n",
      "  warnings.warn(\"For a faster implementation, use the gensim.models.phrases.Phraser class\")\n"
     ]
    }
   ],
   "source": [
    "bigram_tr, trigram_tr = bigrams(words_tr)"
   ]
  },
  {
   "cell_type": "markdown",
   "metadata": {},
   "source": [
    "#### Check some items"
   ]
  },
  {
   "cell_type": "code",
   "execution_count": 311,
   "metadata": {},
   "outputs": [
    {
     "name": "stdout",
     "output_type": "stream",
     "text": [
      "['my', 'wife', 'and', 'have', 'been', 'going', 'to', 'the', 'desert_ridge', 'location', 'every_week', 'for', 'many_years', 'and', 'have', 'enjoyed', 'the', 'service', 'and', 'quality', 'of', 'the', 'food', 'we', 'have', 'become', 'part', 'of', 'the', 'keg', 'family', 'over', 'these', 'many_years', 'the', 'bar', 'staff', 'has', 'always', 'greeted_us', 'with', 'big', 'smile', 'highly_recommend', 'the', 'prime_rib', 'and', 'filets', 'the', 'french_onion_soup', 'is', 'the', 'best', 'in', 'town', 'jim', 'and', 'alice']\n"
     ]
    }
   ],
   "source": [
    "print(trigram_tr[bigram_tr[words[16345]]][:200])"
   ]
  },
  {
   "cell_type": "markdown",
   "metadata": {},
   "source": [
    "#### Remove stopwords and lemmatize"
   ]
  },
  {
   "cell_type": "code",
   "execution_count": 312,
   "metadata": {},
   "outputs": [],
   "source": [
    "nlp = spacy.load('en', disable=['parser', 'ner'])"
   ]
  },
  {
   "cell_type": "code",
   "execution_count": 313,
   "metadata": {},
   "outputs": [],
   "source": [
    "def lemmatization(texts, allowed_postags=['NOUN','ADJ','VERB','ADV']):\n",
    "    texts_out = []\n",
    "    for sent in texts:\n",
    "        doc = nlp(\" \".join(sent)) \n",
    "        texts_out.append([token.lemma_ for token in doc if token.pos_ in allowed_postags])\n",
    "    return texts_out"
   ]
  },
  {
   "cell_type": "markdown",
   "metadata": {},
   "source": [
    "#### Run test through trained model - will later run test data through trained model here"
   ]
  },
  {
   "cell_type": "code",
   "execution_count": 314,
   "metadata": {},
   "outputs": [],
   "source": [
    "trigrams_tr = [trigram_tr[bigram_tr[review]] for review in words_tr]"
   ]
  },
  {
   "cell_type": "code",
   "execution_count": 319,
   "metadata": {},
   "outputs": [],
   "source": [
    "lemma_lg = lemmatization(trigrams_tr)"
   ]
  },
  {
   "cell_type": "code",
   "execution_count": 325,
   "metadata": {},
   "outputs": [],
   "source": [
    "with open('lemma_lg.pkl', 'wb') as f:\n",
    "    pickle.dump(lemma_lg, f)"
   ]
  },
  {
   "cell_type": "markdown",
   "metadata": {},
   "source": [
    "#### Note difference to un-lemmatized un-stop-worded above"
   ]
  },
  {
   "cell_type": "code",
   "execution_count": 324,
   "metadata": {},
   "outputs": [
    {
     "data": {
      "text/plain": [
       "['hubby',\n",
       " 'eat',\n",
       " 'area',\n",
       " 'service',\n",
       " 'really',\n",
       " 'good',\n",
       " 'manager',\n",
       " 'actually',\n",
       " 'come',\n",
       " 'bit',\n",
       " 'used',\n",
       " 'manager',\n",
       " 'north_york',\n",
       " 'location',\n",
       " 'really',\n",
       " 'nice',\n",
       " 'food',\n",
       " 'good',\n",
       " 'mushroom',\n",
       " 'burger']"
      ]
     },
     "execution_count": 324,
     "metadata": {},
     "output_type": "execute_result"
    }
   ],
   "source": [
    "lemma_lg[8811][:20]"
   ]
  },
  {
   "cell_type": "markdown",
   "metadata": {},
   "source": [
    "## LDA"
   ]
  },
  {
   "cell_type": "markdown",
   "metadata": {},
   "source": [
    "#### Dictionary and Corpus creation for LDA"
   ]
  },
  {
   "cell_type": "code",
   "execution_count": 368,
   "metadata": {},
   "outputs": [],
   "source": [
    "id2word_lg = gensim.corpora.Dictionary(lemma_lg)\n",
    "id2word_lg.filter_extremes(no_below=10, no_above=0.35)\n",
    "id2word_lg.compactify()\n",
    "id2word_lg.save('train_dict_lg')\n",
    "corpus_lg = [id2word_lg.doc2bow(text) for text in lemma_lg]"
   ]
  },
  {
   "cell_type": "code",
   "execution_count": 369,
   "metadata": {},
   "outputs": [],
   "source": [
    "with open('corpus_lg.pkl', 'wb') as f:\n",
    "    pickle.dump(corpus_lg, f)"
   ]
  },
  {
   "cell_type": "code",
   "execution_count": 397,
   "metadata": {},
   "outputs": [
    {
     "data": {
      "text/plain": [
       "[(25, 1), (65, 1)]"
      ]
     },
     "execution_count": 397,
     "metadata": {},
     "output_type": "execute_result"
    }
   ],
   "source": [
    "corpus_lg[21][:2]"
   ]
  },
  {
   "cell_type": "code",
   "execution_count": 396,
   "metadata": {},
   "outputs": [
    {
     "data": {
      "text/plain": [
       "[('cook', 1),\n",
       " ('meal', 1),\n",
       " ('back', 1),\n",
       " ('restaurant', 1),\n",
       " ('serve', 1),\n",
       " ('try', 1),\n",
       " ('month', 1),\n",
       " ('las_vegas', 1),\n",
       " ('blew_away', 1),\n",
       " ('chicken_parmesan', 1),\n",
       " ('coming', 1),\n",
       " ('creative', 1),\n",
       " ('ever', 2),\n",
       " ('favorite', 1),\n",
       " ('huge_portion', 1),\n",
       " ('hundred', 1),\n",
       " ('present', 1),\n",
       " ('shape', 1),\n",
       " ('square', 1),\n",
       " ('thin', 1),\n",
       " ('way', 1)]"
      ]
     },
     "execution_count": 396,
     "metadata": {},
     "output_type": "execute_result"
    }
   ],
   "source": [
    "[(id2word_lg[id], freq) for id, freq in corpus_lg[21]]"
   ]
  },
  {
   "cell_type": "markdown",
   "metadata": {},
   "source": [
    "## LDA Modeling"
   ]
  },
  {
   "cell_type": "code",
   "execution_count": 119,
   "metadata": {},
   "outputs": [],
   "source": [
    "# from gensim.models.wrappers import LdaMallet\n",
    "\n",
    "# mallet_path = 'home//ubuntu//mallet-2.0.8//bin//mallet'\n",
    "# lda20_mallet = LdaMallet(mallet_path, corpus=corpus, num_topics=20, id2word=id2word, workers=7)\n",
    "# lda20_mallet.save('lda20_mallet.model')"
   ]
  },
  {
   "cell_type": "markdown",
   "metadata": {},
   "source": [
    "#### Tune the number of topics for best coherence score range to then tune further"
   ]
  },
  {
   "cell_type": "code",
   "execution_count": 280,
   "metadata": {},
   "outputs": [],
   "source": [
    "coherence = []\n",
    "for topics in [10, 20, 30, 40, 50, 60, 70, 80, 90]:\n",
    "    with warnings.catch_warnings():\n",
    "        warnings.simplefilter('ignore')\n",
    "        lda = gensim.models.ldamulticore.LdaMulticore(\n",
    "                           corpus=corpus,\n",
    "                           num_topics=topics,\n",
    "                           id2word=id2word,\n",
    "                           workers=7, # Num. Processing Cores - 1\n",
    "                           passes=50,\n",
    "                           per_word_topics=True)\n",
    "        coherence_model_lda = CoherenceModel(model=lda, texts=lemma, dictionary=id2word, coherence='c_v')\n",
    "        coherence.append(coherence_model_lda.get_coherence())"
   ]
  },
  {
   "cell_type": "code",
   "execution_count": 282,
   "metadata": {},
   "outputs": [
    {
     "data": {
      "text/plain": [
       "[0.4569360497920987,\n",
       " 0.45102773337845636,\n",
       " 0.4769243195803472,\n",
       " 0.45451839384076187,\n",
       " 0.4586513901322973,\n",
       " 0.44899760814164985,\n",
       " 0.458999619307086,\n",
       " 0.4222138879353656,\n",
       " 0.4286275314022464]"
      ]
     },
     "execution_count": 282,
     "metadata": {},
     "output_type": "execute_result"
    }
   ],
   "source": [
    "coherence"
   ]
  },
  {
   "cell_type": "code",
   "execution_count": 281,
   "metadata": {},
   "outputs": [],
   "source": [
    "with open('coherence.pkl', 'wb') as f:\n",
    "    pickle.dump(coherence, f)"
   ]
  },
  {
   "cell_type": "markdown",
   "metadata": {},
   "source": [
    "#### The actual LDA model. Note the large chunksize, this runs much faster than doing it in a big batch like above, but the Coherence score I get with these parameters matches the batched version. Now if I want to change things above with total data or lemmatization, I can test this much faster.\n",
    "gensim.models.ldamulticore.LdaMulticore(\n",
    "                           corpus=corpus_lg,\n",
    "                           num_topics=30,\n",
    "                           id2word=id2word,\n",
    "                           chunksize=25000,\n",
    "                           workers=7,\n",
    "                           passes=50,\n",
    "                           eval_every = 1,\n",
    "                           per_word_topics=True)"
   ]
  },
  {
   "cell_type": "code",
   "execution_count": 336,
   "metadata": {},
   "outputs": [],
   "source": [
    "# can we tune large data model to beat .4769\n",
    "with warnings.catch_warnings():\n",
    "    warnings.simplefilter('ignore')\n",
    "    lda30_lg = gensim.models.ldamulticore.LdaMulticore(\n",
    "                           corpus=corpus_lg,\n",
    "                           num_topics=30,\n",
    "                           id2word=id2word_lg,\n",
    "                           chunksize=25000,\n",
    "                           workers=7, # Num. Processing Cores - 1\n",
    "                           passes=50,\n",
    "                           eval_every = 1,\n",
    "                           per_word_topics=True)\n",
    "    lda30_lg.save('lda30_lg.model')"
   ]
  },
  {
   "cell_type": "code",
   "execution_count": 391,
   "metadata": {},
   "outputs": [
    {
     "data": {
      "text/plain": [
       "[(0,\n",
       "  '0.025*\"room\" + 0.017*\"hotel\" + 0.016*\"stay\" + 0.007*\"check\" + 0.007*\"night\" + 0.007*\"nice\" + 0.007*\"vegas\" + 0.007*\"casino\" + 0.006*\"day\" + 0.006*\"get\" + 0.006*\"also\" + 0.005*\"strip\" + 0.005*\"would\" + 0.005*\"clean\" + 0.005*\"play\" + 0.005*\"bathroom\" + 0.005*\"pool\" + 0.005*\"great\" + 0.005*\"go\" + 0.005*\"time\" + 0.004*\"see\" + 0.004*\"walk\" + 0.004*\"really\" + 0.004*\"even\" + 0.004*\"area\" + 0.004*\"need\" + 0.004*\"show\" + 0.003*\"people\" + 0.003*\"free\" + 0.003*\"want\" + 0.003*\"find\" + 0.003*\"fun\" + 0.003*\"lot\" + 0.003*\"parking\" + 0.003*\"use\" + 0.003*\"club\" + 0.003*\"bar\" + 0.003*\"take\" + 0.003*\"work\" + 0.003*\"thing\" + 0.003*\"look\" + 0.003*\"kid\" + 0.003*\"staff\" + 0.003*\"hour\" + 0.003*\"floor\" + 0.003*\"book\" + 0.003*\"way\" + 0.003*\"experience\" + 0.003*\"pay\" + 0.002*\"think\" + 0.002*\"close\" + 0.002*\"bed\" + 0.002*\"old\" + 0.002*\"well\" + 0.002*\"game\" + 0.002*\"back\" + 0.002*\"still\" + 0.002*\"could\" + 0.002*\"much\" + 0.002*\"little\" + 0.002*\"coffee\" + 0.002*\"park\" + 0.002*\"view\" + 0.002*\"leave\" + 0.002*\"big\" + 0.002*\"las_vegas\" + 0.002*\"resort\" + 0.002*\"smell\" + 0.002*\"pretty\" + 0.002*\"line\" + 0.002*\"first\" + 0.002*\"guest\" + 0.002*\"machine\" + 0.002*\"door\" + 0.002*\"location\" + 0.002*\"know\" + 0.002*\"make\" + 0.002*\"water\" + 0.002*\"bad\" + 0.002*\"elevator\" + 0.002*\"give\" + 0.002*\"beautiful\" + 0.002*\"valet\" + 0.002*\"love\" + 0.002*\"shower\" + 0.002*\"charge\" + 0.002*\"event\" + 0.002*\"suite\" + 0.002*\"feel\" + 0.002*\"front_desk\" + 0.002*\"say\" + 0.002*\"small\" + 0.002*\"car\" + 0.002*\"huge\" + 0.002*\"restaurant\" + 0.002*\"come\" + 0.002*\"open\" + 0.002*\"service\" + 0.002*\"offer\" + 0.002*\"sure\"'),\n",
       " (1,\n",
       "  '0.032*\"bowl\" + 0.018*\"raman\" + 0.017*\"healthy\" + 0.011*\"option\" + 0.010*\"lunch\" + 0.010*\"salad\" + 0.009*\"fresh\" + 0.009*\"location\" + 0.009*\"add\" + 0.009*\"get\" + 0.008*\"sauce\" + 0.007*\"great\" + 0.007*\"poke\" + 0.007*\"chicken\" + 0.007*\"also\" + 0.007*\"veggie\" + 0.006*\"delicious\" + 0.006*\"chipotle\" + 0.006*\"meal\" + 0.006*\"love\" + 0.006*\"topping\" + 0.006*\"protein\" + 0.006*\"make\" + 0.006*\"choose\" + 0.006*\"smoothie\" + 0.005*\"fast\" + 0.005*\"spicy\" + 0.005*\"clean\" + 0.005*\"wrap\" + 0.005*\"eat\" + 0.005*\"side\" + 0.005*\"ingredient\" + 0.005*\"really\" + 0.005*\"want\" + 0.004*\"try\" + 0.004*\"go\" + 0.004*\"choice\" + 0.004*\"time\" + 0.004*\"tasty\" + 0.004*\"super\" + 0.004*\"quick\" + 0.004*\"juice\" + 0.004*\"taste\" + 0.004*\"extra\" + 0.004*\"avocado\" + 0.004*\"flavor\" + 0.004*\"hawaiian\" + 0.004*\"pick\" + 0.004*\"nice\" + 0.004*\"rice\" + 0.004*\"menu\" + 0.004*\"burrito\" + 0.003*\"come\" + 0.003*\"pretty\" + 0.003*\"think\" + 0.003*\"order\" + 0.003*\"small\" + 0.003*\"fill\" + 0.003*\"spot\" + 0.003*\"work\" + 0.003*\"definitely\" + 0.003*\"new\" + 0.003*\"well\" + 0.003*\"offer\" + 0.003*\"little\" + 0.003*\"concept\" + 0.003*\"open\" + 0.003*\"would\" + 0.003*\"even\" + 0.003*\"portion\" + 0.003*\"service\" + 0.003*\"give\" + 0.002*\"day\" + 0.002*\"area\" + 0.002*\"happy\" + 0.002*\"perfect\" + 0.002*\"always\" + 0.002*\"half\" + 0.002*\"back\" + 0.002*\"much\" + 0.002*\"wish\" + 0.002*\"sushi_burrito\" + 0.002*\"price\" + 0.002*\"usually\" + 0.002*\"green\" + 0.002*\"use\" + 0.002*\"build\" + 0.002*\"everything\" + 0.002*\"today\" + 0.002*\"need\" + 0.002*\"look\" + 0.002*\"hawaii\" + 0.002*\"large\" + 0.002*\"big\" + 0.002*\"still\" + 0.002*\"sure\" + 0.002*\"lot\" + 0.002*\"brown_rice\" + 0.002*\"see\" + 0.002*\"regular\"'),\n",
       " (2,\n",
       "  '0.014*\"donut\" + 0.011*\"vegan\" + 0.009*\"delicious\" + 0.007*\"make\" + 0.006*\"cookie\" + 0.006*\"gluten_free\" + 0.006*\"flavor\" + 0.005*\"bakery\" + 0.005*\"pastry\" + 0.005*\"sweet\" + 0.005*\"chocolate\" + 0.005*\"cake\" + 0.005*\"fill\" + 0.005*\"also\" + 0.005*\"bread\" + 0.005*\"fresh\" + 0.005*\"top\" + 0.004*\"amazing\" + 0.004*\"day\" + 0.004*\"butter\" + 0.004*\"know\" + 0.003*\"way\" + 0.003*\"treat\" + 0.003*\"eat\" + 0.003*\"coffee\" + 0.003*\"taste\" + 0.003*\"get\" + 0.003*\"time\" + 0.003*\"well\" + 0.003*\"cupcake\" + 0.003*\"offer\" + 0.003*\"start\" + 0.003*\"serve\" + 0.003*\"apple\" + 0.002*\"bring\" + 0.002*\"allergy\" + 0.002*\"perfect\" + 0.002*\"love\" + 0.002*\"even\" + 0.002*\"menu\" + 0.002*\"little\" + 0.002*\"stop\" + 0.002*\"enjoy\" + 0.002*\"doughnut\" + 0.002*\"savory\" + 0.002*\"bite\" + 0.002*\"go\" + 0.002*\"pie\" + 0.002*\"local\" + 0.002*\"thing\" + 0.002*\"great\" + 0.002*\"take\" + 0.002*\"chef\" + 0.002*\"buy\" + 0.002*\"visit\" + 0.002*\"warm\" + 0.002*\"free\" + 0.002*\"perfectly\" + 0.002*\"course\" + 0.002*\"would\" + 0.002*\"glaze\" + 0.002*\"back\" + 0.002*\"kitchen\" + 0.002*\"ever\" + 0.002*\"sugar\" + 0.002*\"tasty\" + 0.002*\"mouth\" + 0.002*\"find\" + 0.002*\"dessert\" + 0.002*\"rich\" + 0.002*\"say\" + 0.002*\"work\" + 0.002*\"baked_good\" + 0.002*\"ingredient\" + 0.002*\"include\" + 0.002*\"wonderful\" + 0.002*\"give\" + 0.002*\"candy\" + 0.002*\"wait\" + 0.002*\"right\" + 0.002*\"croissant\" + 0.002*\"goodness\" + 0.002*\"could\" + 0.002*\"house\" + 0.002*\"experience\" + 0.002*\"creamy\" + 0.002*\"full\" + 0.002*\"farm\" + 0.002*\"blueberry\" + 0.002*\"nut\" + 0.002*\"add\" + 0.002*\"bake\" + 0.002*\"lemon\" + 0.002*\"sell\" + 0.001*\"order\" + 0.001*\"beautiful\" + 0.001*\"favorite\" + 0.001*\"delight\" + 0.001*\"everything\" + 0.001*\"cheese\"'),\n",
       " (3,\n",
       "  '0.009*\"would\" + 0.006*\"taste\" + 0.006*\"bit\" + 0.006*\"steak\" + 0.006*\"think\" + 0.006*\"serve\" + 0.006*\"nice\" + 0.006*\"feel\" + 0.006*\"side\" + 0.005*\"look\" + 0.005*\"coffee\" + 0.005*\"really\" + 0.004*\"decor\" + 0.004*\"may\" + 0.004*\"make\" + 0.004*\"little\" + 0.004*\"way\" + 0.004*\"well\" + 0.004*\"seem\" + 0.004*\"give\" + 0.004*\"quite\" + 0.004*\"light\" + 0.004*\"also\" + 0.004*\"could\" + 0.003*\"come\" + 0.003*\"small\" + 0.003*\"go\" + 0.003*\"table\" + 0.003*\"menu\" + 0.003*\"experience\" + 0.003*\"use\" + 0.003*\"cut\" + 0.003*\"wall\" + 0.003*\"see\" + 0.003*\"know\" + 0.003*\"get\" + 0.003*\"however\" + 0.003*\"something\" + 0.003*\"much\" + 0.003*\"still\" + 0.003*\"perhaps\" + 0.003*\"say\" + 0.003*\"back\" + 0.003*\"first\" + 0.002*\"thing\" + 0.002*\"order\" + 0.002*\"even\" + 0.002*\"location\" + 0.002*\"enough\" + 0.002*\"find\" + 0.002*\"expect\" + 0.002*\"need\" + 0.002*\"staff\" + 0.002*\"overall\" + 0.002*\"offer\" + 0.002*\"dark\" + 0.002*\"want\" + 0.002*\"sure\" + 0.002*\"meal\" + 0.002*\"definitely\" + 0.002*\"flavor\" + 0.002*\"meat\" + 0.002*\"clean\" + 0.002*\"strong\" + 0.002*\"maybe\" + 0.002*\"color\" + 0.002*\"tea\" + 0.002*\"cook\" + 0.002*\"warm\" + 0.002*\"piece\" + 0.002*\"rather\" + 0.002*\"large\" + 0.002*\"enjoy\" + 0.002*\"old\" + 0.002*\"interesting\" + 0.002*\"right\" + 0.002*\"actually\" + 0.002*\"time\" + 0.002*\"top\" + 0.002*\"eat\" + 0.002*\"take\" + 0.002*\"part\" + 0.002*\"kitchen\" + 0.002*\"red\" + 0.002*\"salt\" + 0.002*\"probably\" + 0.002*\"glass\" + 0.002*\"hot\" + 0.002*\"certainly\" + 0.002*\"black\" + 0.002*\"star\" + 0.002*\"presentation\" + 0.002*\"beef\" + 0.002*\"interior\" + 0.002*\"leave\" + 0.002*\"hard\" + 0.002*\"water\" + 0.001*\"latte\" + 0.001*\"drink\" + 0.001*\"people\"'),\n",
       " (4,\n",
       "  '0.043*\"chicken\" + 0.022*\"bbq\" + 0.019*\"side\" + 0.018*\"sauce\" + 0.015*\"mac_cheese\" + 0.013*\"rib\" + 0.013*\"order\" + 0.012*\"meat\" + 0.011*\"get\" + 0.010*\"brisket\" + 0.009*\"fried_chicken\" + 0.009*\"also\" + 0.008*\"great\" + 0.008*\"delicious\" + 0.007*\"flavor\" + 0.007*\"eat\" + 0.007*\"really\" + 0.006*\"tender\" + 0.006*\"dry\" + 0.006*\"fry\" + 0.006*\"meal\" + 0.005*\"pulled_pork\" + 0.005*\"come\" + 0.005*\"would\" + 0.005*\"amazing\" + 0.005*\"little\" + 0.005*\"back\" + 0.005*\"spicy\" + 0.005*\"smoke\" + 0.004*\"try\" + 0.004*\"taste\" + 0.004*\"tasty\" + 0.004*\"bbq_sauce\" + 0.004*\"love\" + 0.004*\"everything\" + 0.004*\"well\" + 0.004*\"nice\" + 0.004*\"sweet\" + 0.004*\"go\" + 0.004*\"much\" + 0.004*\"pork\" + 0.004*\"coleslaw\" + 0.003*\"cornbread\" + 0.003*\"potato\" + 0.003*\"dinner\" + 0.003*\"take\" + 0.003*\"say\" + 0.003*\"think\" + 0.003*\"hot\" + 0.003*\"bone\" + 0.003*\"moist\" + 0.003*\"piece\" + 0.003*\"season\" + 0.003*\"definitely\" + 0.003*\"bean\" + 0.003*\"could\" + 0.003*\"sausage\" + 0.003*\"ever\" + 0.003*\"juicy\" + 0.003*\"home\" + 0.003*\"cook\" + 0.003*\"wife\" + 0.003*\"make\" + 0.003*\"potato_salad\" + 0.003*\"barbecue\" + 0.003*\"give\" + 0.003*\"slaw\" + 0.003*\"corn\" + 0.003*\"sandwich\" + 0.003*\"combo\" + 0.002*\"husband\" + 0.002*\"crispy\" + 0.002*\"sure\" + 0.002*\"bit\" + 0.002*\"want\" + 0.002*\"enough\" + 0.002*\"flavorful\" + 0.002*\"mashed_potato\" + 0.002*\"bread\" + 0.002*\"wing\" + 0.002*\"big\" + 0.002*\"right\" + 0.002*\"platter\" + 0.002*\"catfish\" + 0.002*\"excellent\" + 0.002*\"green\" + 0.002*\"enjoy\" + 0.002*\"need\" + 0.002*\"thing\" + 0.002*\"spice\" + 0.002*\"even\" + 0.002*\"green_bean\" + 0.002*\"still\" + 0.002*\"service\" + 0.002*\"like\" + 0.002*\"serve\" + 0.002*\"top\" + 0.002*\"half\" + 0.002*\"time\" + 0.002*\"perfect\"'),\n",
       " (5,\n",
       "  '0.023*\"price\" + 0.017*\"not\" + 0.011*\"quality\" + 0.011*\"pay\" + 0.010*\"use\" + 0.010*\"eat\" + 0.010*\"bad\" + 0.009*\"do\" + 0.009*\"would\" + 0.008*\"taste\" + 0.007*\"even\" + 0.007*\"much\" + 0.007*\"charge\" + 0.007*\"go\" + 0.007*\"cheap\" + 0.007*\"can\" + 0.006*\"people\" + 0.006*\"be\" + 0.006*\"way\" + 0.005*\"cost\" + 0.005*\"better\" + 0.005*\"thing\" + 0.005*\"expensive\" + 0.005*\"service\" + 0.005*\"expect\" + 0.005*\"think\" + 0.005*\"change\" + 0.004*\"dollar\" + 0.004*\"nothing\" + 0.004*\"average\" + 0.004*\"worth\" + 0.004*\"buy\" + 0.004*\"give\" + 0.004*\"know\" + 0.004*\"want\" + 0.004*\"really\" + 0.004*\"small\" + 0.004*\"say\" + 0.004*\"make\" + 0.004*\"time\" + 0.004*\"look\" + 0.004*\"review\" + 0.003*\"money\" + 0.003*\"old\" + 0.003*\"something\" + 0.003*\"item\" + 0.003*\"maybe\" + 0.003*\"could\" + 0.003*\"high\" + 0.003*\"less\" + 0.003*\"star\" + 0.003*\"however\" + 0.003*\"place\" + 0.003*\"s\" + 0.003*\"overprice\" + 0.003*\"never\" + 0.003*\"back\" + 0.003*\"see\" + 0.003*\"meat\" + 0.003*\"location\" + 0.003*\"seem\" + 0.003*\"guess\" + 0.003*\"amount\" + 0.003*\"spend\" + 0.003*\"still\" + 0.003*\"feel\" + 0.003*\"mean\" + 0.003*\"year\" + 0.003*\"day\" + 0.003*\"need\" + 0.003*\"get\" + 0.002*\"decent\" + 0.002*\"tip\" + 0.002*\"lot\" + 0.002*\"find\" + 0.002*\"bland\" + 0.002*\"least\" + 0.002*\"frozen\" + 0.002*\"rather\" + 0.002*\"much_better\" + 0.002*\"sure\" + 0.002*\"store\" + 0.002*\"actually\" + 0.002*\"serve\" + 0.002*\"understand\" + 0.002*\"anything\" + 0.002*\"many\" + 0.002*\"menu\" + 0.002*\"portion\" + 0.002*\"put\" + 0.002*\"mediocre\" + 0.002*\"everything\" + 0.002*\"almost\" + 0.002*\"kind\" + 0.002*\"real\" + 0.002*\"kid\" + 0.002*\"dry\" + 0.002*\"probably\" + 0.002*\"try\" + 0.002*\"meal\"'),\n",
       " (6,\n",
       "  '0.075*\"taco\" + 0.021*\"burrito\" + 0.019*\"mexican\" + 0.018*\"salsa\" + 0.017*\"chip\" + 0.014*\"mexican_food\" + 0.013*\"margarita\" + 0.011*\"guacamole\" + 0.010*\"delicious\" + 0.010*\"tortilla\" + 0.010*\"great\" + 0.009*\"flavor\" + 0.009*\"chicken\" + 0.009*\"chips_salsa\" + 0.009*\"also\" + 0.009*\"fresh\" + 0.008*\"order\" + 0.008*\"get\" + 0.007*\"bean\" + 0.007*\"really\" + 0.007*\"margaritas\" + 0.007*\"enchilada\" + 0.006*\"quesadilla\" + 0.006*\"amazing\" + 0.006*\"love\" + 0.005*\"carne_asada\" + 0.005*\"make\" + 0.005*\"fish_taco\" + 0.005*\"spicy\" + 0.005*\"meat\" + 0.005*\"back\" + 0.005*\"guac\" + 0.005*\"tasty\" + 0.005*\"fajita\" + 0.004*\"eat\" + 0.004*\"taste\" + 0.004*\"nachos\" + 0.004*\"little\" + 0.004*\"beef\" + 0.004*\"pork\" + 0.004*\"try\" + 0.004*\"queso\" + 0.004*\"carnita\" + 0.004*\"rice\" + 0.004*\"authentic\" + 0.004*\"shrimp\" + 0.004*\"rice_bean\" + 0.004*\"cheese\" + 0.004*\"street_taco\" + 0.003*\"hot\" + 0.003*\"favorite\" + 0.003*\"ever\" + 0.003*\"would\" + 0.003*\"chorizo\" + 0.003*\"salsa_bar\" + 0.003*\"super\" + 0.003*\"fish_tacos\" + 0.003*\"ceviche\" + 0.003*\"nice\" + 0.003*\"well\" + 0.003*\"everything\" + 0.003*\"small\" + 0.003*\"steak\" + 0.003*\"top\" + 0.003*\"corn\" + 0.003*\"flavorful\" + 0.003*\"pretty\" + 0.003*\"cilantro\" + 0.003*\"definitely\" + 0.003*\"salsas\" + 0.003*\"side\" + 0.002*\"think\" + 0.002*\"tequila\" + 0.002*\"taco_tuesday\" + 0.002*\"corn_tortilla\" + 0.002*\"come\" + 0.002*\"lime\" + 0.002*\"fill\" + 0.002*\"sauce\" + 0.002*\"go\" + 0.002*\"serve\" + 0.002*\"hot_sauce\" + 0.002*\"horchata\" + 0.002*\"find\" + 0.002*\"thing\" + 0.002*\"give\" + 0.002*\"awesome\" + 0.002*\"tamale\" + 0.002*\"al_pastor\" + 0.002*\"jalapeno\" + 0.002*\"sure\" + 0.002*\"service\" + 0.002*\"flan\" + 0.002*\"say\" + 0.002*\"churro\" + 0.002*\"want\" + 0.002*\"way\" + 0.002*\"shrimp_tacos\" + 0.002*\"avocado\" + 0.002*\"torta\"'),\n",
       " (7,\n",
       "  '0.106*\"beer\" + 0.017*\"nachos\" + 0.013*\"great\" + 0.012*\"also\" + 0.010*\"bar\" + 0.009*\"flight\" + 0.008*\"nice\" + 0.008*\"happy_hour\" + 0.008*\"airport\" + 0.007*\"pretzel\" + 0.007*\"brew\" + 0.007*\"cheese\" + 0.007*\"tap\" + 0.006*\"brewery\" + 0.006*\"bartender\" + 0.006*\"really\" + 0.006*\"stop\" + 0.005*\"enjoy\" + 0.005*\"pretty\" + 0.005*\"cold\" + 0.005*\"local\" + 0.005*\"ipa\" + 0.005*\"dog\" + 0.004*\"patio\" + 0.004*\"well\" + 0.004*\"get\" + 0.004*\"tasty\" + 0.004*\"german\" + 0.004*\"try\" + 0.004*\"pint\" + 0.004*\"awesome\" + 0.004*\"craft_beer\" + 0.003*\"beer_selection\" + 0.003*\"service\" + 0.003*\"cool\" + 0.003*\"time\" + 0.003*\"atmosphere\" + 0.003*\"come\" + 0.003*\"green_chili\" + 0.003*\"ale\" + 0.003*\"sample\" + 0.003*\"selection\" + 0.003*\"green_chile\" + 0.003*\"draft\" + 0.003*\"lot\" + 0.003*\"fun\" + 0.003*\"draft_beer\" + 0.003*\"chimichanga\" + 0.003*\"big\" + 0.003*\"die\" + 0.002*\"go\" + 0.002*\"like\" + 0.002*\"man\" + 0.002*\"serve\" + 0.002*\"cider\" + 0.002*\"bottle\" + 0.002*\"chile\" + 0.002*\"look\" + 0.002*\"decent\" + 0.002*\"house\" + 0.002*\"appetizer\" + 0.002*\"stout\" + 0.002*\"order\" + 0.002*\"eat\" + 0.002*\"day\" + 0.002*\"glass\" + 0.002*\"spot\" + 0.002*\"different\" + 0.002*\"app\" + 0.002*\"super\" + 0.002*\"green_sauce\" + 0.002*\"schnitzel\" + 0.002*\"huge\" + 0.002*\"love\" + 0.002*\"list\" + 0.002*\"little\" + 0.002*\"delicious\" + 0.002*\"chicken_enchilada\" + 0.002*\"bit\" + 0.002*\"much\" + 0.002*\"favorite\" + 0.002*\"wife\" + 0.002*\"und\" + 0.002*\"stuff\" + 0.002*\"option\" + 0.002*\"back\" + 0.002*\"excellent\" + 0.002*\"menu\" + 0.002*\"beer_list\" + 0.002*\"think\" + 0.002*\"sausage\" + 0.002*\"happy_hour_special\" + 0.002*\"chip\" + 0.002*\"selection_beer\" + 0.002*\"caribbean\" + 0.001*\"live_music\" + 0.001*\"head\" + 0.001*\"maria\" + 0.001*\"tamal\" + 0.001*\"poblano\"'),\n",
       " (8,\n",
       "  '0.040*\"wing\" + 0.030*\"great\" + 0.028*\"menu\" + 0.023*\"bar\" + 0.017*\"game\" + 0.010*\"love\" + 0.010*\"service\" + 0.008*\"lot\" + 0.007*\"beer_selection\" + 0.007*\"also\" + 0.007*\"beer\" + 0.006*\"spot\" + 0.006*\"well\" + 0.006*\"bartender\" + 0.006*\"option\" + 0.006*\"selection\" + 0.006*\"time\" + 0.005*\"drink\" + 0.005*\"pub\" + 0.005*\"happy_hour\" + 0.005*\"watch\" + 0.005*\"lunch\" + 0.005*\"really\" + 0.005*\"nice\" + 0.004*\"large\" + 0.004*\"slider\" + 0.004*\"tv\" + 0.004*\"fun\" + 0.004*\"atmosphere\" + 0.004*\"fish_chip\" + 0.004*\"thing\" + 0.004*\"tvs\" + 0.004*\"sport\" + 0.004*\"go\" + 0.004*\"delicious\" + 0.004*\"favorite\" + 0.004*\"choice\" + 0.004*\"solid\" + 0.004*\"definitely\" + 0.004*\"back\" + 0.004*\"new\" + 0.004*\"enjoy\" + 0.003*\"appetizer\" + 0.003*\"special\" + 0.003*\"pretty\" + 0.003*\"cocktail\" + 0.003*\"huge\" + 0.003*\"come\" + 0.003*\"try\" + 0.003*\"chicken_wing\" + 0.003*\"local\" + 0.003*\"different\" + 0.003*\"choose\" + 0.003*\"everything\" + 0.003*\"friendly\" + 0.003*\"item\" + 0.003*\"play\" + 0.003*\"visit\" + 0.003*\"watch_game\" + 0.003*\"excellent\" + 0.002*\"fry\" + 0.002*\"would\" + 0.002*\"awesome\" + 0.002*\"fan\" + 0.002*\"shrimp_grit\" + 0.002*\"kid\" + 0.002*\"area\" + 0.002*\"stop\" + 0.002*\"full\" + 0.002*\"little\" + 0.002*\"offer\" + 0.002*\"irish\" + 0.002*\"tasty\" + 0.002*\"look\" + 0.002*\"night\" + 0.002*\"flavor\" + 0.002*\"app\" + 0.002*\"small\" + 0.002*\"check\" + 0.002*\"big\" + 0.002*\"tap\" + 0.002*\"hang\" + 0.002*\"sunday\" + 0.002*\"cool\" + 0.002*\"see\" + 0.002*\"many\" + 0.002*\"variety\" + 0.002*\"sports_bar\" + 0.002*\"buffalo\" + 0.002*\"especially\" + 0.002*\"include\" + 0.002*\"serve\" + 0.002*\"eat\" + 0.002*\"change\" + 0.002*\"amazing\" + 0.002*\"still\" + 0.002*\"gumbo\" + 0.002*\"crowd\" + 0.002*\"southern\" + 0.002*\"sure\"'),\n",
       " (9,\n",
       "  '0.084*\"always\" + 0.054*\"love\" + 0.039*\"great\" + 0.023*\"service\" + 0.019*\"favorite\" + 0.014*\"time\" + 0.014*\"amazing\" + 0.013*\"staff\" + 0.013*\"delicious\" + 0.012*\"eat\" + 0.010*\"location\" + 0.010*\"never\" + 0.009*\"fresh\" + 0.009*\"friendly\" + 0.009*\"every_time\" + 0.009*\"usually\" + 0.007*\"also\" + 0.007*\"family\" + 0.006*\"really\" + 0.006*\"everything\" + 0.006*\"spot\" + 0.006*\"town\" + 0.005*\"fast\" + 0.005*\"nice\" + 0.005*\"work\" + 0.005*\"owner\" + 0.005*\"often\" + 0.005*\"sometimes\" + 0.005*\"take\" + 0.005*\"menu\" + 0.004*\"awesome\" + 0.004*\"try\" + 0.004*\"lunch\" + 0.004*\"busy\" + 0.004*\"clean\" + 0.004*\"happy\" + 0.004*\"quick\" + 0.004*\"customer_service\" + 0.004*\"even\" + 0.004*\"go\" + 0.004*\"come\" + 0.003*\"price\" + 0.003*\"know\" + 0.003*\"never_disappoint\" + 0.003*\"excellent\" + 0.003*\"year\" + 0.003*\"meal\" + 0.003*\"well\" + 0.003*\"ever\" + 0.003*\"consistently\" + 0.003*\"super\" + 0.003*\"make\" + 0.003*\"highly_recommend\" + 0.003*\"people\" + 0.003*\"visit\" + 0.003*\"everyone\" + 0.003*\"quality\" + 0.003*\"must\" + 0.003*\"thing\" + 0.003*\"enjoy\" + 0.003*\"day\" + 0.003*\"sure\" + 0.003*\"kid\" + 0.003*\"definitely\" + 0.003*\"new\" + 0.003*\"place\" + 0.003*\"especially\" + 0.003*\"keep\" + 0.002*\"consistent\" + 0.002*\"wrong\" + 0.002*\"yummy\" + 0.002*\"far\" + 0.002*\"special\" + 0.002*\"find\" + 0.002*\"anything\" + 0.002*\"stop\" + 0.002*\"fantastic\" + 0.002*\"vegas\" + 0.002*\"wonderful\" + 0.002*\"perfect\" + 0.002*\"several_time\" + 0.002*\"absolutely_love\" + 0.002*\"bad\" + 0.002*\"week\" + 0.002*\"best\" + 0.002*\"point\" + 0.002*\"many_time\" + 0.002*\"atmosphere\" + 0.002*\"die\" + 0.002*\"right\" + 0.002*\"wait\" + 0.002*\"staff_friendly\" + 0.002*\"recommend\" + 0.002*\"local\" + 0.002*\"need\" + 0.002*\"vegan\" + 0.002*\"regular\" + 0.002*\"experience\" + 0.002*\"thank\" + 0.002*\"home\"'),\n",
       " (10,\n",
       "  '0.025*\"seafood\" + 0.020*\"oyster\" + 0.019*\"shrimp\" + 0.017*\"lobster\" + 0.014*\"price\" + 0.011*\"happy_hour\" + 0.011*\"crab\" + 0.009*\"service\" + 0.009*\"cocktail\" + 0.008*\"would\" + 0.008*\"movie\" + 0.008*\"little\" + 0.007*\"great\" + 0.007*\"bar\" + 0.006*\"decent\" + 0.006*\"steak\" + 0.006*\"menu\" + 0.005*\"however\" + 0.005*\"con\" + 0.005*\"seem\" + 0.005*\"fish\" + 0.005*\"small\" + 0.005*\"go\" + 0.005*\"get\" + 0.004*\"expect\" + 0.004*\"think\" + 0.004*\"average\" + 0.004*\"expensive\" + 0.004*\"lobster_roll\" + 0.004*\"experience\" + 0.004*\"pro\" + 0.004*\"special\" + 0.004*\"overall\" + 0.004*\"much\" + 0.004*\"mussel\" + 0.004*\"quality\" + 0.004*\"shell\" + 0.003*\"taste\" + 0.003*\"fresh\" + 0.003*\"clam\" + 0.003*\"clam_chowder\" + 0.003*\"crab_cake\" + 0.003*\"dinner\" + 0.003*\"find\" + 0.003*\"pretty\" + 0.003*\"theater\" + 0.003*\"worth\" + 0.003*\"say\" + 0.003*\"serve\" + 0.003*\"star\" + 0.003*\"really\" + 0.003*\"drink\" + 0.003*\"also\" + 0.003*\"fish_chip\" + 0.003*\"half\" + 0.003*\"side\" + 0.002*\"may\" + 0.002*\"offer\" + 0.002*\"way\" + 0.002*\"deal\" + 0.002*\"time\" + 0.002*\"crawfish\" + 0.002*\"eat\" + 0.002*\"order\" + 0.002*\"high\" + 0.002*\"better\" + 0.002*\"spend\" + 0.002*\"meal\" + 0.002*\"martini\" + 0.002*\"value\" + 0.002*\"season\" + 0.002*\"cuban\" + 0.002*\"return\" + 0.002*\"well\" + 0.002*\"enjoy\" + 0.002*\"overprice\" + 0.002*\"meh\" + 0.002*\"bartender\" + 0.002*\"cod\" + 0.002*\"impressed\" + 0.002*\"atmosphere\" + 0.002*\"least\" + 0.002*\"large\" + 0.002*\"back\" + 0.002*\"know\" + 0.002*\"less\" + 0.002*\"want\" + 0.002*\"bit\" + 0.002*\"give\" + 0.002*\"entree\" + 0.002*\"appetizer\" + 0.002*\"come\" + 0.002*\"alcohol\" + 0.002*\"bad\" + 0.002*\"try\" + 0.002*\"grill\" + 0.002*\"many\" + 0.002*\"pricey\" + 0.002*\"king_crab\" + 0.002*\"fair\"'),\n",
       " (11,\n",
       "  '0.063*\"sushi\" + 0.053*\"roll\" + 0.031*\"fish\" + 0.016*\"fresh\" + 0.013*\"salmon\" + 0.011*\"order\" + 0.010*\"sashimi\" + 0.010*\"eat\" + 0.009*\"rice\" + 0.009*\"japanese\" + 0.009*\"also\" + 0.008*\"piece\" + 0.008*\"tuna\" + 0.008*\"ayce\" + 0.008*\"quality\" + 0.007*\"come\" + 0.007*\"chef\" + 0.007*\"really\" + 0.006*\"get\" + 0.005*\"tempura\" + 0.005*\"sake\" + 0.005*\"sushi_roll\" + 0.005*\"would\" + 0.005*\"taste\" + 0.004*\"nigiri\" + 0.004*\"special\" + 0.004*\"menu\" + 0.004*\"love\" + 0.004*\"miso_soup\" + 0.004*\"try\" + 0.004*\"lunch\" + 0.004*\"item\" + 0.004*\"top\" + 0.003*\"service\" + 0.003*\"great\" + 0.003*\"place\" + 0.003*\"spicy\" + 0.003*\"sushi_chef\" + 0.003*\"appetizer\" + 0.003*\"dinner\" + 0.003*\"sauce\" + 0.003*\"definitely\" + 0.003*\"well\" + 0.003*\"shrimp\" + 0.003*\"edamame\" + 0.003*\"wasabi\" + 0.003*\"hibachi\" + 0.003*\"think\" + 0.003*\"nice\" + 0.003*\"make\" + 0.003*\"delicious\" + 0.003*\"favorite\" + 0.003*\"thing\" + 0.003*\"price\" + 0.003*\"include\" + 0.003*\"much\" + 0.003*\"want\" + 0.003*\"spicy_tuna\" + 0.003*\"lot\" + 0.003*\"pretty\" + 0.003*\"small\" + 0.003*\"back\" + 0.003*\"serve\" + 0.002*\"experience\" + 0.002*\"time\" + 0.002*\"scallop\" + 0.002*\"overall\" + 0.002*\"look\" + 0.002*\"say\" + 0.002*\"bento_box\" + 0.002*\"little\" + 0.002*\"avocado\" + 0.002*\"crab\" + 0.002*\"go\" + 0.002*\"california_roll\" + 0.002*\"even\" + 0.002*\"shrimp_tempura\" + 0.002*\"give\" + 0.002*\"big\" + 0.002*\"everything\" + 0.002*\"omakase\" + 0.002*\"yellowtail\" + 0.002*\"different\" + 0.002*\"variety\" + 0.002*\"way\" + 0.002*\"see\" + 0.002*\"find\" + 0.002*\"offer\" + 0.002*\"selection\" + 0.002*\"presentation\" + 0.002*\"first\" + 0.002*\"cut\" + 0.002*\"still\" + 0.002*\"quite\" + 0.002*\"know\" + 0.002*\"enjoy\" + 0.002*\"toro\" + 0.002*\"bar\" + 0.002*\"full\" + 0.002*\"japan\"'),\n",
       " (12,\n",
       "  '0.092*\"great\" + 0.043*\"service\" + 0.020*\"atmosphere\" + 0.020*\"nice\" + 0.018*\"excellent\" + 0.017*\"amazing\" + 0.016*\"delicious\" + 0.016*\"server\" + 0.013*\"experience\" + 0.013*\"staff\" + 0.011*\"love\" + 0.010*\"back\" + 0.009*\"wonderful\" + 0.009*\"friendly\" + 0.009*\"fantastic\" + 0.008*\"really\" + 0.008*\"make\" + 0.008*\"awesome\" + 0.008*\"thank\" + 0.007*\"attentive\" + 0.007*\"drink\" + 0.007*\"everything\" + 0.007*\"enjoy\" + 0.006*\"definitely_back\" + 0.006*\"fun\" + 0.006*\"perfect\" + 0.006*\"dinner\" + 0.006*\"highly_recommend\" + 0.005*\"first_time\" + 0.005*\"time\" + 0.005*\"come\" + 0.005*\"ambiance\" + 0.005*\"well\" + 0.005*\"outstanding\" + 0.004*\"go\" + 0.004*\"definitely\" + 0.004*\"friend\" + 0.004*\"spot\" + 0.004*\"clean\" + 0.004*\"everyone\" + 0.004*\"menu\" + 0.004*\"visit\" + 0.004*\"meal\" + 0.004*\"also\" + 0.004*\"owner\" + 0.004*\"waitress\" + 0.003*\"recommend\" + 0.003*\"bartender\" + 0.003*\"helpful\" + 0.003*\"sure\" + 0.003*\"customer_service\" + 0.003*\"super\" + 0.003*\"decor\" + 0.003*\"family\" + 0.003*\"waiter\" + 0.003*\"recommendation\" + 0.003*\"overall\" + 0.003*\"night\" + 0.003*\"look\" + 0.003*\"welcome\" + 0.003*\"wait\" + 0.003*\"bar\" + 0.003*\"vibe\" + 0.003*\"ambience\" + 0.003*\"music\" + 0.003*\"cool\" + 0.003*\"beautiful\" + 0.003*\"friendly_staff\" + 0.003*\"happy\" + 0.002*\"environment\" + 0.002*\"pleasant\" + 0.002*\"tasty\" + 0.002*\"exceptional\" + 0.002*\"order\" + 0.002*\"job\" + 0.002*\"fabulous\" + 0.002*\"manager\" + 0.002*\"incredible\" + 0.002*\"patio\" + 0.002*\"little\" + 0.002*\"fresh\" + 0.002*\"new\" + 0.002*\"special\" + 0.002*\"selection\" + 0.002*\"feel\" + 0.002*\"take\" + 0.002*\"comfortable\" + 0.002*\"location\" + 0.002*\"stop\" + 0.002*\"cocktail\" + 0.002*\"lovely\" + 0.002*\"really_enjoy\" + 0.002*\"happy_hour\" + 0.002*\"lunch\" + 0.002*\"even\" + 0.002*\"extremely\" + 0.002*\"wife\" + 0.002*\"yummy\" + 0.002*\"husband\" + 0.002*\"smile\"'),\n",
       " (13,\n",
       "  '0.161*\"pizza\" + 0.018*\"cheese\" + 0.015*\"crust\" + 0.013*\"slice\" + 0.012*\"pie\" + 0.011*\"topping\" + 0.009*\"sauce\" + 0.009*\"order\" + 0.008*\"delivery\" + 0.006*\"get\" + 0.005*\"pepperoni\" + 0.005*\"really\" + 0.005*\"chicago\" + 0.005*\"also\" + 0.004*\"sausage\" + 0.004*\"dough\" + 0.004*\"great\" + 0.004*\"large\" + 0.004*\"italian\" + 0.004*\"make\" + 0.004*\"taste\" + 0.004*\"oven\" + 0.003*\"deliver\" + 0.003*\"eat\" + 0.003*\"top\" + 0.003*\"would\" + 0.003*\"little\" + 0.003*\"mushroom\" + 0.003*\"calzone\" + 0.003*\"want\" + 0.003*\"et\" + 0.003*\"thin_crust\" + 0.003*\"think\" + 0.003*\"place\" + 0.003*\"try\" + 0.003*\"wing\" + 0.003*\"pour\" + 0.003*\"service\" + 0.003*\"find\" + 0.003*\"thin\" + 0.003*\"delicious\" + 0.002*\"garlic_knot\" + 0.002*\"pretty\" + 0.002*\"hot\" + 0.002*\"take\" + 0.002*\"flavor\" + 0.002*\"fresh\" + 0.002*\"deep\" + 0.002*\"pick\" + 0.002*\"ingredient\" + 0.002*\"nice\" + 0.002*\"small\" + 0.002*\"new_york\" + 0.002*\"definitely\" + 0.002*\"way\" + 0.002*\"time\" + 0.002*\"extra\" + 0.002*\"love\" + 0.002*\"say\" + 0.002*\"pas\" + 0.002*\"pizzeria\" + 0.002*\"mozzarella\" + 0.002*\"size\" + 0.002*\"still\" + 0.002*\"add\" + 0.002*\"la\" + 0.002*\"soggy\" + 0.002*\"even\" + 0.002*\"right\" + 0.002*\"super\" + 0.002*\"know\" + 0.002*\"pepperoni_pizza\" + 0.002*\"style\" + 0.002*\"garlic\" + 0.002*\"pizza_joint\" + 0.002*\"crispy\" + 0.002*\"half\" + 0.002*\"huge\" + 0.002*\"big\" + 0.002*\"perfect\" + 0.002*\"cook\" + 0.002*\"mai\" + 0.002*\"home\" + 0.002*\"greasy\" + 0.002*\"well\" + 0.002*\"ever\" + 0.002*\"put\" + 0.002*\"blaze\" + 0.002*\"tasty\" + 0.002*\"italy\" + 0.002*\"back\" + 0.002*\"go\" + 0.002*\"look\" + 0.002*\"est\" + 0.002*\"use\" + 0.001*\"white_pizza\" + 0.001*\"ranch\" + 0.001*\"tre\" + 0.001*\"burn\" + 0.001*\"come\"'),\n",
       " (14,\n",
       "  '0.045*\"buffet\" + 0.019*\"crepe\" + 0.016*\"selection\" + 0.013*\"dessert\" + 0.012*\"eat\" + 0.010*\"dish\" + 0.009*\"variety\" + 0.009*\"option\" + 0.009*\"indian\" + 0.008*\"item\" + 0.008*\"also\" + 0.007*\"indian_food\" + 0.007*\"dinner\" + 0.007*\"lot\" + 0.007*\"go\" + 0.007*\"really\" + 0.006*\"vegetarian\" + 0.006*\"would\" + 0.006*\"price\" + 0.006*\"quality\" + 0.006*\"great\" + 0.006*\"vegas\" + 0.006*\"offer\" + 0.006*\"naan\" + 0.005*\"gelato\" + 0.005*\"station\" + 0.005*\"include\" + 0.005*\"try\" + 0.005*\"taste\" + 0.005*\"crab_leg\" + 0.005*\"everything\" + 0.005*\"fresh\" + 0.005*\"think\" + 0.005*\"lunch\" + 0.004*\"thing\" + 0.004*\"choice\" + 0.004*\"asian\" + 0.004*\"many\" + 0.004*\"definitely\" + 0.004*\"much\" + 0.004*\"want\" + 0.004*\"find\" + 0.004*\"different\" + 0.004*\"meat\" + 0.004*\"pretty\" + 0.004*\"section\" + 0.004*\"quite\" + 0.004*\"nice\" + 0.003*\"choose\" + 0.003*\"even\" + 0.003*\"look\" + 0.003*\"seafood\" + 0.003*\"lunch_buffet\" + 0.003*\"lamb\" + 0.003*\"overall\" + 0.003*\"enjoy\" + 0.003*\"desert\" + 0.003*\"little\" + 0.003*\"say\" + 0.003*\"flavor\" + 0.003*\"well\" + 0.003*\"make\" + 0.003*\"time\" + 0.003*\"worth\" + 0.003*\"tasty\" + 0.003*\"delicious\" + 0.003*\"however\" + 0.003*\"area\" + 0.003*\"meal\" + 0.003*\"expect\" + 0.002*\"decent\" + 0.002*\"butter_chicken\" + 0.002*\"sure\" + 0.002*\"come\" + 0.002*\"get\" + 0.002*\"menu\" + 0.002*\"experience\" + 0.002*\"garlic_naan\" + 0.002*\"line\" + 0.002*\"pay\" + 0.002*\"chinese\" + 0.002*\"favorite\" + 0.002*\"per_person\" + 0.002*\"see\" + 0.002*\"serve\" + 0.002*\"visit\" + 0.002*\"spice\" + 0.002*\"may\" + 0.002*\"sweet\" + 0.002*\"average\" + 0.002*\"ever\" + 0.002*\"love\" + 0.002*\"hot\" + 0.002*\"could\" + 0.002*\"probably\" + 0.002*\"strip\" + 0.002*\"back\" + 0.002*\"curry\" + 0.002*\"huge\" + 0.002*\"give\"'),\n",
       " (15,\n",
       "  '0.026*\"great\" + 0.019*\"love\" + 0.015*\"eat\" + 0.013*\"back\" + 0.013*\"amazing\" + 0.013*\"drink\" + 0.012*\"find\" + 0.011*\"live\" + 0.009*\"vegas\" + 0.008*\"go\" + 0.008*\"visit\" + 0.008*\"ever\" + 0.007*\"want\" + 0.007*\"stop\" + 0.006*\"awesome\" + 0.006*\"would\" + 0.006*\"try\" + 0.006*\"time\" + 0.006*\"definitely\" + 0.006*\"spot\" + 0.006*\"town\" + 0.006*\"year\" + 0.006*\"new\" + 0.006*\"place\" + 0.006*\"area\" + 0.005*\"delicious\" + 0.005*\"favorite\" + 0.005*\"service\" + 0.005*\"las_vegas\" + 0.005*\"phoenix\" + 0.005*\"home\" + 0.005*\"really\" + 0.005*\"location\" + 0.005*\"authentic\" + 0.005*\"make\" + 0.005*\"day\" + 0.004*\"everything\" + 0.004*\"see\" + 0.004*\"come\" + 0.004*\"friend\" + 0.004*\"never\" + 0.004*\"restaurant\" + 0.004*\"drive\" + 0.004*\"move\" + 0.004*\"happy_hour\" + 0.004*\"menu\" + 0.004*\"people\" + 0.004*\"thing\" + 0.004*\"must\" + 0.004*\"open\" + 0.004*\"sure\" + 0.004*\"know\" + 0.003*\"close\" + 0.003*\"miss\" + 0.003*\"could\" + 0.003*\"wish\" + 0.003*\"fun\" + 0.003*\"glad\" + 0.003*\"look\" + 0.003*\"scottsdale\" + 0.003*\"bar\" + 0.003*\"wait\" + 0.003*\"arizona\" + 0.003*\"way\" + 0.003*\"even\" + 0.003*\"atmosphere\" + 0.003*\"family\" + 0.003*\"travel\" + 0.003*\"first\" + 0.003*\"happy\" + 0.003*\"take\" + 0.003*\"experience\" + 0.003*\"many\" + 0.003*\"night\" + 0.003*\"far\" + 0.002*\"city\" + 0.002*\"owner\" + 0.002*\"trip\" + 0.002*\"fantastic\" + 0.002*\"enjoy\" + 0.002*\"think\" + 0.002*\"still\" + 0.002*\"bartender\" + 0.002*\"charlotte\" + 0.002*\"dim_sum\" + 0.002*\"best\" + 0.002*\"work\" + 0.002*\"say\" + 0.002*\"keep\" + 0.002*\"also\" + 0.002*\"downtown\" + 0.002*\"often\" + 0.002*\"yelp\" + 0.002*\"let\" + 0.002*\"get\" + 0.002*\"much\" + 0.002*\"real\" + 0.002*\"boba\" + 0.002*\"cool\" + 0.002*\"grow\"'),\n",
       " (16,\n",
       "  '0.014*\"dessert\" + 0.012*\"dinner\" + 0.011*\"meal\" + 0.010*\"delicious\" + 0.010*\"steak\" + 0.009*\"appetizer\" + 0.009*\"wine\" + 0.009*\"order\" + 0.009*\"amazing\" + 0.008*\"also\" + 0.008*\"great\" + 0.007*\"entree\" + 0.007*\"start\" + 0.007*\"menu\" + 0.006*\"service\" + 0.006*\"excellent\" + 0.006*\"share\" + 0.006*\"dish\" + 0.006*\"chef\" + 0.006*\"experience\" + 0.005*\"perfect\" + 0.005*\"course\" + 0.005*\"special\" + 0.005*\"server\" + 0.005*\"make\" + 0.005*\"come\" + 0.005*\"husband\" + 0.004*\"cocktail\" + 0.004*\"pasta\" + 0.004*\"well\" + 0.004*\"serve\" + 0.004*\"everything\" + 0.004*\"enjoy\" + 0.004*\"scallop\" + 0.004*\"bread\" + 0.004*\"love\" + 0.004*\"salmon\" + 0.004*\"get\" + 0.004*\"night\" + 0.004*\"italian\" + 0.004*\"waiter\" + 0.004*\"wonderful\" + 0.004*\"sauce\" + 0.004*\"wife\" + 0.003*\"top\" + 0.003*\"filet\" + 0.003*\"birthday\" + 0.003*\"favorite\" + 0.003*\"flavor\" + 0.003*\"side\" + 0.003*\"mushroom\" + 0.003*\"table\" + 0.003*\"go\" + 0.003*\"ever\" + 0.003*\"would\" + 0.003*\"fantastic\" + 0.003*\"say\" + 0.003*\"reservation\" + 0.002*\"ambiance\" + 0.002*\"must\" + 0.002*\"friend\" + 0.002*\"evening\" + 0.002*\"salad\" + 0.002*\"recommend\" + 0.002*\"take\" + 0.002*\"bring\" + 0.002*\"want\" + 0.002*\"asparagus\" + 0.002*\"main\" + 0.002*\"risotto\" + 0.002*\"dining_experience\" + 0.002*\"duck\" + 0.002*\"could\" + 0.002*\"lobster\" + 0.002*\"much\" + 0.002*\"desert\" + 0.002*\"choose\" + 0.002*\"incredible\" + 0.002*\"gnocchi\" + 0.002*\"cook\" + 0.002*\"beautiful\" + 0.002*\"even\" + 0.002*\"definitely\" + 0.002*\"try\" + 0.002*\"cheese\" + 0.002*\"time\" + 0.002*\"lamb\" + 0.002*\"restaurant\" + 0.002*\"tender\" + 0.002*\"choice\" + 0.002*\"main_course\" + 0.002*\"eat\" + 0.002*\"octopus\" + 0.002*\"taste\" + 0.002*\"starter\" + 0.002*\"full\" + 0.002*\"potato\" + 0.002*\"outstanding\" + 0.002*\"first\" + 0.002*\"ribeye\"'),\n",
       " (17,\n",
       "  '0.087*\"burger\" + 0.048*\"fry\" + 0.012*\"order\" + 0.011*\"get\" + 0.009*\"cheese\" + 0.008*\"bun\" + 0.008*\"also\" + 0.008*\"really\" + 0.006*\"come\" + 0.006*\"shake\" + 0.006*\"great\" + 0.006*\"eat\" + 0.006*\"taste\" + 0.006*\"bacon\" + 0.006*\"would\" + 0.006*\"side\" + 0.005*\"sauce\" + 0.005*\"onion_ring\" + 0.005*\"hot_dog\" + 0.005*\"delicious\" + 0.005*\"think\" + 0.005*\"dog\" + 0.004*\"patty\" + 0.004*\"little\" + 0.004*\"say\" + 0.004*\"flavor\" + 0.004*\"love\" + 0.004*\"go\" + 0.004*\"back\" + 0.004*\"well\" + 0.004*\"tasty\" + 0.004*\"nice\" + 0.004*\"want\" + 0.003*\"make\" + 0.003*\"pretty\" + 0.003*\"onion\" + 0.003*\"meat\" + 0.003*\"sweet_potato_frie\" + 0.003*\"crispy\" + 0.003*\"hamburger\" + 0.003*\"try\" + 0.003*\"cook\" + 0.003*\"much\" + 0.003*\"fresh\" + 0.003*\"menu\" + 0.003*\"top\" + 0.003*\"juicy\" + 0.003*\"thing\" + 0.003*\"ketchup\" + 0.003*\"cheeseburger\" + 0.003*\"definitely\" + 0.003*\"chili\" + 0.003*\"pickle\" + 0.003*\"fast\" + 0.003*\"milkshake\" + 0.003*\"beef\" + 0.003*\"still\" + 0.002*\"topping\" + 0.002*\"sandwich\" + 0.002*\"could\" + 0.002*\"big\" + 0.002*\"look\" + 0.002*\"overall\" + 0.002*\"way\" + 0.002*\"even\" + 0.002*\"add\" + 0.002*\"french_frie\" + 0.002*\"meal\" + 0.002*\"give\" + 0.002*\"serve\" + 0.002*\"husband\" + 0.002*\"greasy\" + 0.002*\"hot\" + 0.002*\"small\" + 0.002*\"slider\" + 0.002*\"sure\" + 0.002*\"super\" + 0.002*\"take\" + 0.002*\"know\" + 0.002*\"shake_shack\" + 0.002*\"expect\" + 0.002*\"bite\" + 0.002*\"regular\" + 0.002*\"time\" + 0.002*\"ever\" + 0.002*\"everything\" + 0.002*\"amazing\" + 0.002*\"grill\" + 0.002*\"need\" + 0.002*\"see\" + 0.002*\"friend\" + 0.002*\"burger_joint\" + 0.002*\"soggy\" + 0.002*\"bit\" + 0.002*\"lot\" + 0.002*\"enough\" + 0.002*\"mushroom\" + 0.002*\"kid\" + 0.002*\"mayo\" + 0.002*\"may\"'),\n",
       " (18,\n",
       "  '0.024*\"service\" + 0.022*\"order\" + 0.019*\"bad\" + 0.017*\"come\" + 0.014*\"get\" + 0.013*\"really\" + 0.013*\"server\" + 0.012*\"would\" + 0.010*\"go\" + 0.010*\"back\" + 0.009*\"even\" + 0.009*\"ask\" + 0.009*\"eat\" + 0.009*\"waitress\" + 0.009*\"never\" + 0.008*\"time\" + 0.008*\"think\" + 0.007*\"say\" + 0.007*\"want\" + 0.007*\"cold\" + 0.007*\"take\" + 0.007*\"drink\" + 0.006*\"experience\" + 0.006*\"friend\" + 0.006*\"thing\" + 0.006*\"taste\" + 0.006*\"terrible\" + 0.006*\"pretty\" + 0.006*\"give\" + 0.005*\"steak\" + 0.005*\"cook\" + 0.005*\"maybe\" + 0.005*\"meal\" + 0.005*\"waiter\" + 0.005*\"know\" + 0.005*\"horrible\" + 0.004*\"bill\" + 0.004*\"bring\" + 0.004*\"disappointed\" + 0.004*\"slow\" + 0.004*\"dry\" + 0.004*\"however\" + 0.004*\"water\" + 0.004*\"ever\" + 0.004*\"nice\" + 0.004*\"still\" + 0.004*\"probably\" + 0.004*\"much\" + 0.004*\"wrong\" + 0.004*\"first\" + 0.004*\"could\" + 0.003*\"leave\" + 0.003*\"seem\" + 0.003*\"serve\" + 0.003*\"check\" + 0.003*\"also\" + 0.003*\"way\" + 0.003*\"bland\" + 0.003*\"nothing\" + 0.003*\"awful\" + 0.003*\"overall\" + 0.003*\"mediocre\" + 0.003*\"disappointing\" + 0.003*\"review\" + 0.003*\"dinner\" + 0.003*\"star\" + 0.003*\"table\" + 0.003*\"sure\" + 0.003*\"unfortunately\" + 0.003*\"menu\" + 0.003*\"appetizer\" + 0.003*\"return\" + 0.003*\"hard\" + 0.003*\"burn\" + 0.003*\"busy\" + 0.003*\"expect\" + 0.003*\"something\" + 0.002*\"pay\" + 0.002*\"anything\" + 0.002*\"better\" + 0.002*\"ok\" + 0.002*\"average\" + 0.002*\"great\" + 0.002*\"tasted_like\" + 0.002*\"actually\" + 0.002*\"first_time\" + 0.002*\"try\" + 0.002*\"decent\" + 0.002*\"tell\" + 0.002*\"night\" + 0.002*\"see\" + 0.002*\"look\" + 0.002*\"husband\" + 0.002*\"instead\" + 0.002*\"boyfriend\" + 0.002*\"price\" + 0.002*\"receive\" + 0.002*\"well\" + 0.002*\"forget\" + 0.002*\"little\"'),\n",
       " (19,\n",
       "  '0.018*\"menu\" + 0.015*\"really\" + 0.012*\"look\" + 0.009*\"friend\" + 0.008*\"see\" + 0.007*\"also\" + 0.007*\"make\" + 0.006*\"bar\" + 0.006*\"cool\" + 0.006*\"know\" + 0.006*\"want\" + 0.005*\"little\" + 0.005*\"think\" + 0.005*\"thing\" + 0.005*\"feel\" + 0.005*\"may\" + 0.004*\"well\" + 0.004*\"try\" + 0.004*\"decor\" + 0.004*\"spot\" + 0.004*\"much\" + 0.004*\"go\" + 0.004*\"pretty\" + 0.004*\"definitely\" + 0.004*\"find\" + 0.004*\"need\" + 0.003*\"kind\" + 0.003*\"unique\" + 0.003*\"many\" + 0.003*\"lot\" + 0.003*\"new\" + 0.003*\"sandwich\" + 0.003*\"give\" + 0.003*\"something\" + 0.003*\"love\" + 0.003*\"delicious\" + 0.003*\"interesting\" + 0.003*\"cute\" + 0.003*\"option\" + 0.003*\"way\" + 0.003*\"right\" + 0.003*\"work\" + 0.003*\"seem\" + 0.003*\"nice\" + 0.003*\"actually\" + 0.003*\"wall\" + 0.003*\"vibe\" + 0.003*\"quite\" + 0.003*\"drink\" + 0.003*\"simple\" + 0.003*\"great\" + 0.003*\"hipster\" + 0.003*\"even\" + 0.003*\"different\" + 0.002*\"open\" + 0.002*\"cafe\" + 0.002*\"review\" + 0.002*\"mean\" + 0.002*\"first\" + 0.002*\"fun\" + 0.002*\"walk\" + 0.002*\"space\" + 0.002*\"take\" + 0.002*\"friendly\" + 0.002*\"small\" + 0.002*\"place\" + 0.002*\"add\" + 0.002*\"sure\" + 0.002*\"old\" + 0.002*\"would\" + 0.002*\"atmosphere\" + 0.002*\"people\" + 0.002*\"name\" + 0.002*\"item\" + 0.002*\"choice\" + 0.002*\"back\" + 0.002*\"enjoy\" + 0.002*\"check\" + 0.002*\"street\" + 0.002*\"still\" + 0.002*\"interior\" + 0.002*\"shop\" + 0.002*\"full\" + 0.002*\"list\" + 0.002*\"area\" + 0.002*\"say\" + 0.002*\"bit\" + 0.002*\"design\" + 0.002*\"modern\" + 0.002*\"big\" + 0.002*\"house\" + 0.002*\"light\" + 0.002*\"keep\" + 0.002*\"style\" + 0.002*\"service\" + 0.002*\"dish\" + 0.002*\"fresh\" + 0.002*\"picture\" + 0.002*\"talk\" + 0.002*\"fill\"'),\n",
       " (20,\n",
       "  '0.028*\"say\" + 0.019*\"tell\" + 0.015*\"call\" + 0.015*\"ask\" + 0.015*\"go\" + 0.013*\"would\" + 0.013*\"want\" + 0.012*\"know\" + 0.012*\"back\" + 0.011*\"take\" + 0.010*\"get\" + 0.010*\"give\" + 0.009*\"guy\" + 0.009*\"never\" + 0.007*\"customer\" + 0.007*\"time\" + 0.007*\"order\" + 0.007*\"eat\" + 0.007*\"even\" + 0.006*\"manager\" + 0.006*\"see\" + 0.006*\"work\" + 0.005*\"could\" + 0.005*\"people\" + 0.005*\"customer_service\" + 0.005*\"way\" + 0.005*\"owner\" + 0.005*\"look\" + 0.005*\"think\" + 0.005*\"business\" + 0.005*\"leave\" + 0.005*\"employee\" + 0.005*\"come\" + 0.005*\"rude\" + 0.005*\"right\" + 0.005*\"make\" + 0.004*\"pick\" + 0.004*\"put\" + 0.004*\"try\" + 0.004*\"girl\" + 0.004*\"phone\" + 0.004*\"need\" + 0.004*\"lady\" + 0.004*\"close\" + 0.004*\"something\" + 0.004*\"really\" + 0.004*\"name\" + 0.004*\"person\" + 0.004*\"cashier\" + 0.004*\"still\" + 0.003*\"ever\" + 0.003*\"talk\" + 0.003*\"pay\" + 0.003*\"first\" + 0.003*\"review\" + 0.003*\"walk\" + 0.003*\"today\" + 0.003*\"open\" + 0.003*\"sure\" + 0.003*\"home\" + 0.003*\"thing\" + 0.003*\"care\" + 0.003*\"wrong\" + 0.003*\"bad\" + 0.003*\"let\" + 0.003*\"man\" + 0.003*\"thank\" + 0.003*\"location\" + 0.003*\"drive\" + 0.003*\"hour\" + 0.003*\"decide\" + 0.003*\"happen\" + 0.003*\"wait\" + 0.003*\"day\" + 0.003*\"show\" + 0.003*\"find\" + 0.003*\"someone\" + 0.002*\"well\" + 0.002*\"minute\" + 0.002*\"use\" + 0.002*\"hear\" + 0.002*\"delivery\" + 0.002*\"start\" + 0.002*\"money\" + 0.002*\"speak\" + 0.002*\"new\" + 0.002*\"friend\" + 0.002*\"help\" + 0.002*\"attitude\" + 0.002*\"ready\" + 0.002*\"anything\" + 0.002*\"already\" + 0.002*\"nothing\" + 0.002*\"keep\" + 0.002*\"yelp\" + 0.002*\"front\" + 0.002*\"online\" + 0.002*\"point\" + 0.002*\"line\" + 0.002*\"explain\"'),\n",
       " (21,\n",
       "  '0.018*\"dessert\" + 0.017*\"sweet\" + 0.016*\"taste\" + 0.015*\"flavor\" + 0.015*\"ice_cream\" + 0.010*\"cake\" + 0.010*\"also\" + 0.010*\"tea\" + 0.008*\"flavour\" + 0.008*\"really\" + 0.008*\"order\" + 0.007*\"try\" + 0.007*\"get\" + 0.006*\"little\" + 0.006*\"come\" + 0.005*\"top\" + 0.005*\"texture\" + 0.005*\"soup\" + 0.005*\"delicious\" + 0.005*\"cheesecake\" + 0.005*\"nice\" + 0.005*\"chocolate\" + 0.005*\"love\" + 0.004*\"sauce\" + 0.004*\"salty\" + 0.004*\"overall\" + 0.004*\"coconut\" + 0.004*\"bit\" + 0.004*\"mango\" + 0.004*\"make\" + 0.004*\"serve\" + 0.004*\"would\" + 0.004*\"well\" + 0.004*\"dumpling\" + 0.004*\"think\" + 0.003*\"great\" + 0.003*\"soft\" + 0.003*\"much\" + 0.003*\"creamy\" + 0.003*\"strawberry\" + 0.003*\"ice\" + 0.003*\"small\" + 0.003*\"super\" + 0.003*\"fresh\" + 0.003*\"sugar\" + 0.003*\"perfect\" + 0.003*\"milk\" + 0.003*\"add\" + 0.003*\"crispy\" + 0.003*\"green_tea\" + 0.003*\"cream\" + 0.003*\"fruit\" + 0.003*\"rich\" + 0.003*\"still\" + 0.003*\"definitely\" + 0.003*\"salt\" + 0.003*\"pork\" + 0.003*\"like\" + 0.003*\"quite\" + 0.003*\"cup\" + 0.003*\"light\" + 0.003*\"lot\" + 0.002*\"boba\" + 0.002*\"fill\" + 0.002*\"piece\" + 0.002*\"friend\" + 0.002*\"strong\" + 0.002*\"sweetness\" + 0.002*\"pretty\" + 0.002*\"hot\" + 0.002*\"honey\" + 0.002*\"could\" + 0.002*\"matcha\" + 0.002*\"amazing\" + 0.002*\"tasty\" + 0.002*\"cookie\" + 0.002*\"duck\" + 0.002*\"chewy\" + 0.002*\"dish\" + 0.002*\"enough\" + 0.002*\"milk_tea\" + 0.002*\"menu\" + 0.002*\"bite\" + 0.002*\"brownie\" + 0.002*\"however\" + 0.002*\"slice\" + 0.002*\"service\" + 0.002*\"tasted_like\" + 0.002*\"thick\" + 0.002*\"mix\" + 0.002*\"broth\" + 0.002*\"tart\" + 0.002*\"noodle\" + 0.002*\"thing\" + 0.002*\"find\" + 0.002*\"banana\" + 0.002*\"scoop\" + 0.002*\"waffle\" + 0.002*\"side\" + 0.002*\"cone\"'),\n",
       " (22,\n",
       "  '0.050*\"salad\" + 0.018*\"order\" + 0.015*\"chicken\" + 0.014*\"pasta\" + 0.012*\"fresh\" + 0.011*\"bread\" + 0.011*\"sauce\" + 0.011*\"delicious\" + 0.010*\"come\" + 0.010*\"also\" + 0.010*\"get\" + 0.009*\"great\" + 0.008*\"love\" + 0.008*\"eat\" + 0.007*\"really\" + 0.007*\"meatball\" + 0.006*\"meal\" + 0.006*\"italian\" + 0.006*\"hummus\" + 0.006*\"nice\" + 0.006*\"tasty\" + 0.006*\"gyro\" + 0.006*\"side\" + 0.006*\"lunch\" + 0.005*\"dress\" + 0.005*\"tomato\" + 0.005*\"taste\" + 0.005*\"greek\" + 0.005*\"cheese\" + 0.005*\"would\" + 0.004*\"pita\" + 0.004*\"back\" + 0.004*\"serve\" + 0.004*\"flavor\" + 0.004*\"little\" + 0.004*\"husband\" + 0.004*\"lot\" + 0.004*\"go\" + 0.003*\"meat\" + 0.003*\"mediterranean\" + 0.003*\"think\" + 0.003*\"menu\" + 0.003*\"well\" + 0.003*\"appetizer\" + 0.003*\"garlic\" + 0.003*\"dinner\" + 0.003*\"enjoy\" + 0.003*\"small\" + 0.003*\"shrimp\" + 0.003*\"much\" + 0.003*\"everything\" + 0.003*\"dressing\" + 0.003*\"make\" + 0.003*\"yummy\" + 0.003*\"enough\" + 0.003*\"want\" + 0.003*\"dip\" + 0.003*\"lettuce\" + 0.003*\"spaghetti\" + 0.003*\"friend\" + 0.003*\"lasagna\" + 0.003*\"could\" + 0.003*\"say\" + 0.003*\"veggie\" + 0.003*\"pretty\" + 0.003*\"portion\" + 0.003*\"take\" + 0.003*\"definitely\" + 0.002*\"service\" + 0.002*\"entree\" + 0.002*\"try\" + 0.002*\"spinach\" + 0.002*\"hot\" + 0.002*\"thing\" + 0.002*\"half\" + 0.002*\"falafel\" + 0.002*\"soup\" + 0.002*\"look\" + 0.002*\"homemade\" + 0.002*\"caesar_salad\" + 0.002*\"share\" + 0.002*\"wrap\" + 0.002*\"spicy\" + 0.002*\"give\" + 0.002*\"lamb\" + 0.002*\"eggplant\" + 0.002*\"side_salad\" + 0.002*\"large\" + 0.002*\"huge\" + 0.002*\"flavorful\" + 0.002*\"garlic_bread\" + 0.002*\"add\" + 0.002*\"like\" + 0.002*\"lemon\" + 0.002*\"olive\" + 0.002*\"sure\" + 0.002*\"amazing\" + 0.002*\"greek_salad\" + 0.002*\"excellent\" + 0.002*\"full\"'),\n",
       " (23,\n",
       "  '0.038*\"breakfast\" + 0.020*\"coffee\" + 0.017*\"egg\" + 0.015*\"order\" + 0.014*\"get\" + 0.013*\"pancake\" + 0.012*\"come\" + 0.011*\"waffle\" + 0.011*\"bacon\" + 0.010*\"sandwich\" + 0.010*\"brunch\" + 0.009*\"also\" + 0.008*\"potato\" + 0.008*\"delicious\" + 0.008*\"really\" + 0.007*\"toast\" + 0.007*\"bagel\" + 0.006*\"side\" + 0.006*\"french_toast\" + 0.005*\"would\" + 0.005*\"love\" + 0.005*\"little\" + 0.005*\"omelette\" + 0.005*\"nice\" + 0.005*\"morning\" + 0.005*\"biscuit\" + 0.005*\"great\" + 0.005*\"eat\" + 0.005*\"wait\" + 0.004*\"meal\" + 0.004*\"serve\" + 0.004*\"make\" + 0.004*\"back\" + 0.004*\"menu\" + 0.004*\"husband\" + 0.004*\"cheese\" + 0.004*\"omelet\" + 0.004*\"go\" + 0.004*\"bread\" + 0.004*\"well\" + 0.004*\"pretty\" + 0.004*\"day\" + 0.004*\"eggs_benedict\" + 0.004*\"tasty\" + 0.003*\"thing\" + 0.003*\"hash_brown\" + 0.003*\"want\" + 0.003*\"say\" + 0.003*\"think\" + 0.003*\"top\" + 0.003*\"look\" + 0.003*\"sausage\" + 0.003*\"taste\" + 0.003*\"chicken_waffle\" + 0.003*\"fresh\" + 0.003*\"friend\" + 0.003*\"much\" + 0.003*\"crispy\" + 0.003*\"definitely\" + 0.003*\"try\" + 0.003*\"fruit\" + 0.003*\"flavor\" + 0.003*\"add\" + 0.003*\"huge\" + 0.003*\"small\" + 0.003*\"ham\" + 0.003*\"everything\" + 0.003*\"benedict\" + 0.003*\"syrup\" + 0.002*\"breakfast_sandwich\" + 0.002*\"perfect\" + 0.002*\"big\" + 0.002*\"avocado\" + 0.002*\"could\" + 0.002*\"hot\" + 0.002*\"cafe\" + 0.002*\"take\" + 0.002*\"time\" + 0.002*\"fill\" + 0.002*\"overall\" + 0.002*\"skillet\" + 0.002*\"like\" + 0.002*\"find\" + 0.002*\"hash\" + 0.002*\"way\" + 0.002*\"cook\" + 0.002*\"still\" + 0.002*\"sweet\" + 0.002*\"even\" + 0.002*\"biscuits_gravy\" + 0.002*\"croissant\" + 0.002*\"bit\" + 0.002*\"fluffy\" + 0.002*\"muffin\" + 0.002*\"sure\" + 0.002*\"lot\" + 0.002*\"enjoy\" + 0.002*\"decide\" + 0.002*\"chicken\" + 0.002*\"boyfriend\"'),\n",
       " (24,\n",
       "  '0.065*\"great\" + 0.059*\"service\" + 0.040*\"amazing\" + 0.038*\"awesome\" + 0.018*\"price\" + 0.016*\"delicious\" + 0.014*\"excellent\" + 0.013*\"brunch\" + 0.012*\"everything\" + 0.010*\"fresh\" + 0.010*\"really\" + 0.010*\"go\" + 0.009*\"quality\" + 0.009*\"breakfast\" + 0.009*\"fast\" + 0.009*\"friendly\" + 0.009*\"vegas\" + 0.009*\"back\" + 0.008*\"eat\" + 0.008*\"definitely\" + 0.008*\"come\" + 0.008*\"get\" + 0.008*\"server\" + 0.008*\"ever\" + 0.007*\"menu\" + 0.007*\"lunch\" + 0.007*\"super\" + 0.007*\"highly_recommend\" + 0.006*\"wait\" + 0.006*\"first_time\" + 0.005*\"well\" + 0.005*\"fantastic\" + 0.005*\"definitely_back\" + 0.005*\"also\" + 0.005*\"recommend\" + 0.005*\"definitely_coming_back\" + 0.004*\"love\" + 0.004*\"quick\" + 0.004*\"sure\" + 0.004*\"nice\" + 0.004*\"must\" + 0.004*\"spot\" + 0.004*\"waitress\" + 0.004*\"taste\" + 0.004*\"staff\" + 0.004*\"time\" + 0.004*\"worth\" + 0.004*\"steak\" + 0.003*\"check\" + 0.003*\"bloody_mary\" + 0.003*\"strip\" + 0.003*\"bomb\" + 0.003*\"customer_service\" + 0.003*\"town\" + 0.003*\"tasty\" + 0.003*\"yummy\" + 0.003*\"experience\" + 0.003*\"dinner\" + 0.002*\"huge\" + 0.002*\"attentive\" + 0.002*\"day\" + 0.002*\"mimosa\" + 0.002*\"hot\" + 0.002*\"portion\" + 0.002*\"incredible\" + 0.002*\"wife\" + 0.002*\"make\" + 0.002*\"stop\" + 0.002*\"phenomenal\" + 0.002*\"sunday\" + 0.002*\"well_worth\" + 0.002*\"cheap\" + 0.002*\"omg\" + 0.002*\"beat\" + 0.002*\"clean\" + 0.002*\"best_ever\" + 0.002*\"fast_friendly\" + 0.002*\"give\" + 0.002*\"friend\" + 0.002*\"coming_back\" + 0.002*\"special\" + 0.002*\"deal\" + 0.002*\"would\" + 0.002*\"thank\" + 0.002*\"staff_friendly\" + 0.002*\"huge_portion\" + 0.002*\"sushi\" + 0.002*\"serve\" + 0.002*\"try\" + 0.002*\"lot\" + 0.002*\"selection\" + 0.002*\"value\" + 0.002*\"would_recommend\" + 0.002*\"weekend\" + 0.002*\"meal\" + 0.002*\"place\" + 0.002*\"perfect\" + 0.002*\"variety\" + 0.002*\"wonderful\" + 0.002*\"visit\"'),\n",
       " (25,\n",
       "  '0.017*\"order\" + 0.016*\"noodle\" + 0.015*\"chicken\" + 0.015*\"spicy\" + 0.014*\"rice\" + 0.012*\"thai\" + 0.010*\"beef\" + 0.010*\"soup\" + 0.010*\"also\" + 0.009*\"come\" + 0.009*\"dish\" + 0.009*\"pho\" + 0.008*\"really\" + 0.008*\"chinese\" + 0.007*\"curry\" + 0.007*\"get\" + 0.007*\"sauce\" + 0.007*\"broth\" + 0.007*\"shrimp\" + 0.007*\"taste\" + 0.006*\"delicious\" + 0.006*\"flavor\" + 0.005*\"eat\" + 0.005*\"pork\" + 0.005*\"great\" + 0.005*\"pad_thai\" + 0.005*\"would\" + 0.004*\"tasty\" + 0.004*\"hot\" + 0.004*\"fried_rice\" + 0.004*\"pretty\" + 0.004*\"service\" + 0.004*\"nice\" + 0.004*\"vegetable\" + 0.004*\"little\" + 0.004*\"tofu\" + 0.004*\"spring_roll\" + 0.004*\"definitely\" + 0.004*\"well\" + 0.004*\"spice\" + 0.004*\"menu\" + 0.004*\"try\" + 0.003*\"fresh\" + 0.003*\"small\" + 0.003*\"meal\" + 0.003*\"much\" + 0.003*\"lot\" + 0.003*\"take\" + 0.003*\"veggie\" + 0.003*\"love\" + 0.003*\"serve\" + 0.003*\"back\" + 0.003*\"find\" + 0.003*\"lunch\" + 0.003*\"portion\" + 0.003*\"crispy\" + 0.003*\"think\" + 0.003*\"give\" + 0.003*\"meat\" + 0.003*\"egg_roll\" + 0.003*\"asian\" + 0.003*\"overall\" + 0.003*\"appetizer\" + 0.003*\"vietnamese\" + 0.003*\"want\" + 0.003*\"still\" + 0.003*\"bowl\" + 0.002*\"go\" + 0.002*\"friend\" + 0.002*\"authentic\" + 0.002*\"say\" + 0.002*\"flavorful\" + 0.002*\"enough\" + 0.002*\"bit\" + 0.002*\"fry\" + 0.002*\"lunch_special\" + 0.002*\"look\" + 0.002*\"price\" + 0.002*\"thing\" + 0.002*\"enjoy\" + 0.002*\"make\" + 0.002*\"add\" + 0.002*\"time\" + 0.002*\"side\" + 0.002*\"entree\" + 0.002*\"raman\" + 0.002*\"quite\" + 0.002*\"everything\" + 0.002*\"cook\" + 0.002*\"place\" + 0.002*\"use\" + 0.002*\"sure\" + 0.002*\"clean\" + 0.002*\"usually\" + 0.002*\"like\" + 0.002*\"even\" + 0.002*\"egg\" + 0.002*\"fish\" + 0.002*\"garlic\" + 0.002*\"sweet\"'),\n",
       " (26,\n",
       "  '0.029*\"meat\" + 0.019*\"wait\" + 0.015*\"line\" + 0.011*\"time\" + 0.011*\"pretty\" + 0.010*\"get\" + 0.010*\"also\" + 0.009*\"would\" + 0.009*\"korean\" + 0.009*\"really\" + 0.009*\"come\" + 0.008*\"people\" + 0.008*\"eat\" + 0.008*\"cook\" + 0.007*\"think\" + 0.007*\"lot\" + 0.007*\"pork_belly\" + 0.007*\"table\" + 0.007*\"order\" + 0.006*\"long\" + 0.006*\"hour\" + 0.006*\"still\" + 0.005*\"service\" + 0.005*\"go\" + 0.005*\"grill\" + 0.005*\"overall\" + 0.005*\"thing\" + 0.005*\"much\" + 0.005*\"little\" + 0.004*\"definitely\" + 0.004*\"take\" + 0.004*\"give\" + 0.004*\"want\" + 0.004*\"soup\" + 0.004*\"small\" + 0.004*\"busy\" + 0.004*\"say\" + 0.004*\"raman\" + 0.004*\"probably\" + 0.004*\"side\" + 0.004*\"worth\" + 0.004*\"serve\" + 0.004*\"bit\" + 0.003*\"nice\" + 0.003*\"however\" + 0.003*\"korean_bbq\" + 0.003*\"side_dish\" + 0.003*\"need\" + 0.003*\"back\" + 0.003*\"see\" + 0.003*\"kimchi\" + 0.003*\"beef\" + 0.003*\"may\" + 0.003*\"pork\" + 0.003*\"try\" + 0.003*\"well\" + 0.003*\"quality\" + 0.003*\"sure\" + 0.003*\"place\" + 0.003*\"first\" + 0.003*\"server\" + 0.003*\"taste\" + 0.003*\"dish\" + 0.003*\"even\" + 0.003*\"could\" + 0.003*\"seat\" + 0.003*\"friend\" + 0.003*\"know\" + 0.003*\"seem\" + 0.003*\"combo\" + 0.003*\"experience\" + 0.003*\"way\" + 0.003*\"different\" + 0.003*\"fat\" + 0.003*\"bulgogi\" + 0.002*\"usually\" + 0.002*\"enough\" + 0.002*\"long_wait\" + 0.002*\"full\" + 0.002*\"end\" + 0.002*\"quite\" + 0.002*\"use\" + 0.002*\"kind\" + 0.002*\"open\" + 0.002*\"actually\" + 0.002*\"expect\" + 0.002*\"ask\" + 0.002*\"find\" + 0.002*\"minute\" + 0.002*\"like\" + 0.002*\"menu\" + 0.002*\"cut\" + 0.002*\"spicy\" + 0.002*\"big\" + 0.002*\"bbq\" + 0.002*\"many\" + 0.002*\"mean\" + 0.002*\"already\" + 0.002*\"great\" + 0.002*\"bring\"'),\n",
       " (27,\n",
       "  '0.027*\"table\" + 0.016*\"nice\" + 0.014*\"seat\" + 0.012*\"great\" + 0.012*\"small\" + 0.011*\"dinner\" + 0.010*\"sit\" + 0.009*\"service\" + 0.008*\"people\" + 0.008*\"time\" + 0.008*\"bar\" + 0.008*\"busy\" + 0.007*\"reservation\" + 0.007*\"enjoy\" + 0.007*\"come\" + 0.007*\"really\" + 0.007*\"group\" + 0.007*\"little\" + 0.007*\"pretty\" + 0.007*\"also\" + 0.007*\"large\" + 0.007*\"loud\" + 0.006*\"patio\" + 0.006*\"price\" + 0.006*\"drink\" + 0.006*\"lot\" + 0.006*\"party\" + 0.005*\"area\" + 0.005*\"overall\" + 0.005*\"go\" + 0.005*\"view\" + 0.005*\"crowd\" + 0.005*\"would\" + 0.005*\"quite\" + 0.005*\"lunch\" + 0.004*\"menu\" + 0.004*\"big\" + 0.004*\"atmosphere\" + 0.004*\"space\" + 0.004*\"wait\" + 0.004*\"side\" + 0.004*\"well\" + 0.004*\"bit\" + 0.004*\"seating\" + 0.004*\"location\" + 0.004*\"full\" + 0.004*\"want\" + 0.004*\"eat\" + 0.004*\"meal\" + 0.003*\"expect\" + 0.003*\"take\" + 0.003*\"booth\" + 0.003*\"portion\" + 0.003*\"order\" + 0.003*\"could\" + 0.003*\"option\" + 0.003*\"spot\" + 0.003*\"music\" + 0.003*\"look\" + 0.003*\"open\" + 0.003*\"night\" + 0.003*\"get\" + 0.003*\"friend\" + 0.003*\"pack\" + 0.003*\"seem\" + 0.003*\"enough\" + 0.003*\"outside\" + 0.003*\"early\" + 0.003*\"parking\" + 0.003*\"pm\" + 0.003*\"tasty\" + 0.003*\"find\" + 0.002*\"set\" + 0.002*\"see\" + 0.002*\"decent\" + 0.002*\"share\" + 0.002*\"definitely\" + 0.002*\"back\" + 0.002*\"weekend\" + 0.002*\"conversation\" + 0.002*\"much\" + 0.002*\"however\" + 0.002*\"size\" + 0.002*\"ambiance\" + 0.002*\"day\" + 0.002*\"able\" + 0.002*\"bar_area\" + 0.002*\"room\" + 0.002*\"quick\" + 0.002*\"way\" + 0.002*\"window\" + 0.002*\"arrive\" + 0.002*\"front\" + 0.002*\"think\" + 0.002*\"quiet\" + 0.002*\"available\" + 0.002*\"serve\" + 0.002*\"make\" + 0.002*\"delicious\" + 0.002*\"probably\"'),\n",
       " (28,\n",
       "  '0.021*\"table\" + 0.015*\"ask\" + 0.015*\"come\" + 0.015*\"wait\" + 0.013*\"server\" + 0.012*\"take\" + 0.012*\"service\" + 0.012*\"time\" + 0.009*\"would\" + 0.008*\"go\" + 0.008*\"minute\" + 0.008*\"sit\" + 0.008*\"get\" + 0.008*\"say\" + 0.008*\"order\" + 0.008*\"back\" + 0.007*\"seat\" + 0.007*\"manager\" + 0.007*\"leave\" + 0.007*\"waitress\" + 0.007*\"even\" + 0.006*\"tell\" + 0.006*\"check\" + 0.006*\"arrive\" + 0.006*\"bring\" + 0.006*\"never\" + 0.005*\"see\" + 0.005*\"experience\" + 0.005*\"people\" + 0.005*\"walk\" + 0.005*\"hostess\" + 0.005*\"could\" + 0.004*\"give\" + 0.004*\"want\" + 0.004*\"waiter\" + 0.004*\"drink\" + 0.004*\"staff\" + 0.004*\"first\" + 0.004*\"still\" + 0.004*\"busy\" + 0.004*\"finally\" + 0.004*\"meal\" + 0.003*\"serve\" + 0.003*\"party\" + 0.003*\"eat\" + 0.003*\"need\" + 0.003*\"know\" + 0.003*\"make\" + 0.003*\"water\" + 0.003*\"receive\" + 0.003*\"look\" + 0.003*\"bar\" + 0.003*\"customer\" + 0.003*\"menu\" + 0.003*\"seem\" + 0.003*\"friend\" + 0.003*\"bill\" + 0.003*\"offer\" + 0.003*\"work\" + 0.003*\"kitchen\" + 0.003*\"point\" + 0.002*\"hour\" + 0.002*\"someone\" + 0.002*\"bad\" + 0.002*\"start\" + 0.002*\"way\" + 0.002*\"however\" + 0.002*\"min\" + 0.002*\"return\" + 0.002*\"decide\" + 0.002*\"show\" + 0.002*\"help\" + 0.002*\"long\" + 0.002*\"dinner\" + 0.002*\"think\" + 0.002*\"tip\" + 0.002*\"issue\" + 0.002*\"also\" + 0.002*\"reservation\" + 0.002*\"right\" + 0.002*\"try\" + 0.002*\"guest\" + 0.002*\"find\" + 0.002*\"greet\" + 0.002*\"bartender\" + 0.002*\"management\" + 0.002*\"ready\" + 0.002*\"husband\" + 0.002*\"pay\" + 0.002*\"well\" + 0.002*\"put\" + 0.002*\"kid\" + 0.002*\"visit\" + 0.002*\"request\" + 0.002*\"problem\" + 0.002*\"notice\" + 0.002*\"sure\" + 0.002*\"family\" + 0.002*\"empty\" + 0.002*\"host\"'),\n",
       " (29,\n",
       "  '0.079*\"sandwich\" + 0.031*\"star\" + 0.017*\"poutine\" + 0.009*\"montreal\" + 0.009*\"diner\" + 0.009*\"fry\" + 0.008*\"pittsburgh\" + 0.007*\"deli\" + 0.007*\"gravy\" + 0.007*\"would\" + 0.007*\"cheese\" + 0.007*\"steak\" + 0.006*\"sub\" + 0.006*\"bread\" + 0.005*\"eat\" + 0.005*\"meal\" + 0.005*\"get\" + 0.005*\"delicious\" + 0.005*\"know\" + 0.005*\"visit\" + 0.005*\"go\" + 0.004*\"take\" + 0.004*\"order\" + 0.004*\"service\" + 0.004*\"stop\" + 0.004*\"also\" + 0.004*\"lunch\" + 0.004*\"meat\" + 0.004*\"thing\" + 0.004*\"say\" + 0.003*\"experience\" + 0.003*\"serve\" + 0.003*\"really\" + 0.003*\"pastrami\" + 0.003*\"way\" + 0.003*\"cash\" + 0.003*\"day\" + 0.003*\"want\" + 0.003*\"reuben\" + 0.003*\"philly\" + 0.003*\"little\" + 0.003*\"back\" + 0.003*\"big\" + 0.003*\"review\" + 0.003*\"make\" + 0.003*\"love\" + 0.003*\"cheesesteak\" + 0.003*\"excellent\" + 0.003*\"smoked_meat\" + 0.003*\"home\" + 0.002*\"pickle\" + 0.002*\"canadian\" + 0.002*\"long\" + 0.002*\"corned_beef\" + 0.002*\"style\" + 0.002*\"even\" + 0.002*\"regular\" + 0.002*\"come\" + 0.002*\"well\" + 0.002*\"cheese_curd\" + 0.002*\"probably\" + 0.002*\"trip\" + 0.002*\"try\" + 0.002*\"huge\" + 0.002*\"ever\" + 0.002*\"first\" + 0.002*\"wait\" + 0.002*\"turkey\" + 0.002*\"lot\" + 0.002*\"find\" + 0.002*\"choose\" + 0.002*\"famous\" + 0.002*\"see\" + 0.002*\"melt\" + 0.002*\"city\" + 0.002*\"much\" + 0.002*\"bring\" + 0.002*\"bacon\" + 0.002*\"think\" + 0.002*\"classic\" + 0.002*\"canada\" + 0.002*\"philly_cheesesteak\" + 0.002*\"menu\" + 0.002*\"fantastic\" + 0.002*\"son\" + 0.002*\"many\" + 0.002*\"must\" + 0.002*\"everything\" + 0.002*\"small\" + 0.002*\"real\" + 0.002*\"wife\" + 0.002*\"sure\" + 0.002*\"mustard\" + 0.002*\"stuff\" + 0.002*\"definitely\" + 0.002*\"philly_cheese_steak\" + 0.002*\"blt\" + 0.002*\"could\" + 0.002*\"tourist\" + 0.001*\"local\"')]"
      ]
     },
     "execution_count": 391,
     "metadata": {},
     "output_type": "execute_result"
    }
   ],
   "source": [
    "lda30_lg.print_topics(30,num_words=100)"
   ]
  },
  {
   "cell_type": "markdown",
   "metadata": {},
   "source": [
    "#### Print Coherence Score of Single Model Above"
   ]
  },
  {
   "cell_type": "code",
   "execution_count": 340,
   "metadata": {},
   "outputs": [
    {
     "data": {
      "text/plain": [
       "0.46441805321405266"
      ]
     },
     "execution_count": 340,
     "metadata": {},
     "output_type": "execute_result"
    }
   ],
   "source": [
    "from gensim.models import CoherenceModel\n",
    "\n",
    "coherence_model_lda = CoherenceModel(model=lda30_lg, texts=lemma_lg, dictionary=id2word_lg, coherence='c_v')\n",
    "coherence_lda = coherence_model_lda.get_coherence()\n",
    "coherence_lda"
   ]
  },
  {
   "cell_type": "markdown",
   "metadata": {},
   "source": [
    "#### Use minimum_probability below to get full distribution for topic!"
   ]
  },
  {
   "cell_type": "code",
   "execution_count": 382,
   "metadata": {},
   "outputs": [
    {
     "data": {
      "text/plain": [
       "[(0, 0.16438176),\n",
       " (1, 0.0013888889),\n",
       " (2, 0.0013888889),\n",
       " (3, 0.0013888889),\n",
       " (4, 0.15381467),\n",
       " (5, 0.0013888889),\n",
       " (6, 0.0013888889),\n",
       " (7, 0.07722635),\n",
       " (8, 0.0013888889),\n",
       " (9, 0.0013888889),\n",
       " (10, 0.0013888889),\n",
       " (11, 0.0013888889),\n",
       " (12, 0.0013888889),\n",
       " (13, 0.0013888889),\n",
       " (14, 0.0013888889),\n",
       " (15, 0.0013888889),\n",
       " (16, 0.0013888889),\n",
       " (17, 0.0013888889),\n",
       " (18, 0.0013888889),\n",
       " (19, 0.24763249),\n",
       " (20, 0.1371998),\n",
       " (21, 0.0013888889),\n",
       " (22, 0.0013888889),\n",
       " (23, 0.0013888889),\n",
       " (24, 0.0013888889),\n",
       " (25, 0.0013888889),\n",
       " (26, 0.0013888889),\n",
       " (27, 0.18641163),\n",
       " (28, 0.0013888889),\n",
       " (29, 0.0013888889)]"
      ]
     },
     "execution_count": 382,
     "metadata": {},
     "output_type": "execute_result"
    }
   ],
   "source": [
    "top_topics = lda30_lg.get_document_topics(corpus_lg[0], minimum_probability=0.0)\n",
    "top_topics"
   ]
  },
  {
   "cell_type": "markdown",
   "metadata": {},
   "source": [
    "#### Get Review Topic Vector"
   ]
  },
  {
   "cell_type": "code",
   "execution_count": 352,
   "metadata": {},
   "outputs": [
    {
     "data": {
      "text/plain": [
       "[0.16491123, 0.15403374, 0.07722656, 0.24698643, 0.13697343, 0.1865353]"
      ]
     },
     "execution_count": 352,
     "metadata": {},
     "output_type": "execute_result"
    }
   ],
   "source": [
    "[top_topics[i][1] for i in range(30)]"
   ]
  },
  {
   "cell_type": "markdown",
   "metadata": {},
   "source": [
    "#### HDP"
   ]
  },
  {
   "cell_type": "code",
   "execution_count": 399,
   "metadata": {},
   "outputs": [],
   "source": [
    "from gensim.models import HdpModel\n",
    "hdp = HdpModel(corpus_lg, id2word_lg, chunksize=10000, K=20, T=150)"
   ]
  },
  {
   "cell_type": "code",
   "execution_count": null,
   "metadata": {},
   "outputs": [],
   "source": [
    "coherence_model_hdp = CoherenceModel(model=hdp, texts=lemma_lg, dictionary=id2word, coherence='c_v')\n",
    "coherence_hdp = coherence_model_hdp.get_coherence()\n",
    "coherence_hdp"
   ]
  },
  {
   "cell_type": "code",
   "execution_count": 373,
   "metadata": {},
   "outputs": [
    {
     "data": {
      "text/plain": [
       "20"
      ]
     },
     "execution_count": 373,
     "metadata": {},
     "output_type": "execute_result"
    }
   ],
   "source": [
    "len(hdp.print_topics())"
   ]
  },
  {
   "cell_type": "code",
   "execution_count": 376,
   "metadata": {},
   "outputs": [
    {
     "data": {
      "text/plain": [
       "[(0,\n",
       "  '0.004*great + 0.003*service + 0.002*order + 0.002*come + 0.002*get + 0.002*really + 0.002*also + 0.002*would + 0.002*love + 0.002*go'),\n",
       " (1,\n",
       "  '0.001*great + 0.001*order + 0.001*service + 0.001*go + 0.001*love + 0.001*also + 0.001*come + 0.001*get + 0.001*would + 0.001*pizza'),\n",
       " (2,\n",
       "  '0.001*great + 0.001*server + 0.000*service + 0.000*come + 0.000*uptown_charlotte + 0.000*single_item + 0.000*greatly_disappoint + 0.000*downtown_lv + 0.000*read_reviews + 0.000*consequently'),\n",
       " (3,\n",
       "  '0.001*really + 0.000*missing_something + 0.000*coup + 0.000*great + 0.000*uncooked + 0.000*lake + 0.000*bare_bone + 0.000*racism + 0.000*hard_boiled_egg + 0.000*simplify'),\n",
       " (4,\n",
       "  '0.000*great + 0.000*coldest + 0.000*rice_pilaf + 0.000*ummm + 0.000*science + 0.000*compared_other + 0.000*lives_hype + 0.000*nacho_cheese + 0.000*groove + 0.000*sunny_side'),\n",
       " (5,\n",
       "  '0.001*fahrenheit + 0.000*watch + 0.000*blueberry_danish + 0.000*chef + 0.000*later_night + 0.000*bound + 0.000*sampler + 0.000*whiz + 0.000*owner_read + 0.000*partly'),\n",
       " (6,\n",
       "  '0.000*lucky_charm + 0.000*side + 0.000*return + 0.000*fraud + 0.000*packing + 0.000*right_across_street + 0.000*screaming_orgasm + 0.000*roja + 0.000*jasmine_tea + 0.000*helicopter'),\n",
       " (7,\n",
       "  '0.000*tamago + 0.000*new_ownership + 0.000*neat + 0.000*tableside_guacamole + 0.000*chipotle_mayo + 0.000*stoke + 0.000*ware + 0.000*firehouse + 0.000*moisture + 0.000*feel_guilty'),\n",
       " (8,\n",
       "  '0.000*review_help + 0.000*specials_board + 0.000*pod + 0.000*tweaking + 0.000*exhausted + 0.000*decent_sized + 0.000*gain + 0.000*vein + 0.000*ever_seen + 0.000*scampi'),\n",
       " (9,\n",
       "  '0.000*hawaiian_bbq + 0.000*revenge + 0.000*autre + 0.000*infuse + 0.000*thin_thick + 0.000*thai_tea + 0.000*cooked_medium + 0.000*fantastically + 0.000*angus + 0.000*authentic_cuban'),\n",
       " (10,\n",
       "  '0.000*que_je + 0.000*minimize + 0.000*namely + 0.000*smoked_salmon + 0.000*social_media + 0.000*parsnip + 0.000*thursday_evening + 0.000*hemp + 0.000*tri + 0.000*chai_latte'),\n",
       " (11,\n",
       "  '0.000*skull + 0.000*piquillo_pepper + 0.000*zoe + 0.000*godfather + 0.000*outback + 0.000*really_appreciat + 0.000*shortly_thereafter + 0.000*prob + 0.000*sitting_front + 0.000*dot'),\n",
       " (12,\n",
       "  '0.000*sushi + 0.000*gentle + 0.000*hope_stay + 0.000*never_seen + 0.000*dayclub + 0.000*michael_jackson + 0.000*plenty_choice + 0.000*long_story_short + 0.000*sliver + 0.000*trademark'),\n",
       " (13,\n",
       "  '0.000*ipas + 0.000*nail + 0.000*five_star_rat + 0.000*sol + 0.000*minced_beef + 0.000*signify + 0.000*talking_stick + 0.000*corn_cob + 0.000*idli + 0.000*mojo'),\n",
       " (14,\n",
       "  '0.000*wynn_encore + 0.000*opened_bag + 0.000*parking_limit + 0.000*dry + 0.000*taro_boba + 0.000*verity + 0.000*right_next + 0.000*hood + 0.000*lemon_butter + 0.000*french_onion_soup')]"
      ]
     },
     "execution_count": 376,
     "metadata": {},
     "output_type": "execute_result"
    }
   ],
   "source": [
    "hdp.print_topics(num_topics=20)"
   ]
  },
  {
   "cell_type": "code",
   "execution_count": 278,
   "metadata": {},
   "outputs": [
    {
     "data": {
      "text/plain": [
       "[(0, 0.9598830339695105)]"
      ]
     },
     "execution_count": 278,
     "metadata": {},
     "output_type": "execute_result"
    }
   ],
   "source": [
    "hdp[corpus[44]]"
   ]
  },
  {
   "cell_type": "code",
   "execution_count": null,
   "metadata": {},
   "outputs": [],
   "source": []
  }
 ],
 "metadata": {
  "kernelspec": {
   "display_name": "Python 3",
   "language": "python",
   "name": "python3"
  },
  "language_info": {
   "codemirror_mode": {
    "name": "ipython",
    "version": 3
   },
   "file_extension": ".py",
   "mimetype": "text/x-python",
   "name": "python",
   "nbconvert_exporter": "python",
   "pygments_lexer": "ipython3",
   "version": "3.7.2"
  }
 },
 "nbformat": 4,
 "nbformat_minor": 2
}
